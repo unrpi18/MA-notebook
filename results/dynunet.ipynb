{
 "cells": [
  {
   "cell_type": "markdown",
   "metadata": {},
   "source": [
    "### 2c"
   ]
  },
  {
   "cell_type": "code",
   "execution_count": 1,
   "metadata": {},
   "outputs": [
    {
     "name": "stdout",
     "output_type": "stream",
     "text": [
      "cc_dice_mean: 0.3352614581585289, fp_mean: 18.160858259999998, fn_mean: 30.115945892453944\n"
     ]
    }
   ],
   "source": [
    "import numpy as np\n",
    "\n",
    "cc_dice = [0.3088754017421258, 0.38313520318993277,0.34869256696438455, 0.26937866796272564, 0.36622545093347586]\n",
    "fp = [8.471060005263158, 1.2216623210526316, 2.411209136842105, 70.66199671578947, 8.038363121052631]\n",
    "fn = [43.69529176912752, 38.53238951688312, 28.972863688590607, 22.286086549640288, 17.09309793802817]\n",
    "\n",
    "print(f\"cc_dice_mean: {np.mean(cc_dice)}, fp_mean: {np.mean(fp)}, fn_mean: {np.mean(fn)}\")"
   ]
  }
 ],
 "metadata": {
  "kernelspec": {
   "display_name": "cvhci",
   "language": "python",
   "name": "python3"
  },
  "language_info": {
   "codemirror_mode": {
    "name": "ipython",
    "version": 3
   },
   "file_extension": ".py",
   "mimetype": "text/x-python",
   "name": "python",
   "nbconvert_exporter": "python",
   "pygments_lexer": "ipython3",
   "version": "3.10.14"
  }
 },
 "nbformat": 4,
 "nbformat_minor": 2
}
