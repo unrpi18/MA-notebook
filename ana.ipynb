{
 "cells": [
  {
   "cell_type": "code",
   "execution_count": 1,
   "metadata": {},
   "outputs": [
    {
     "name": "stdout",
     "output_type": "stream",
     "text": [
      "数据形状: (400, 400, 304)\n",
      "数据类型: float64\n",
      "唯一标签值: [  0.   1.   2.   3.   5.   6.   7.   8.   9.  10.  15.  16.  17.  18.\n",
      "  20.  21.  25.  26.  27.  32.  44.  51.  52.  53.  54.  61.  62.  63.\n",
      "  64.  65.  66.  67.  68.  69.  70.  71.  72.  73.  74.  75.  76.  77.\n",
      "  78.  79.  80.  86.  90.  91.  92. 116.]\n"
     ]
    }
   ],
   "source": [
    "import nibabel as nib\n",
    "import numpy as np\n",
    "\n",
    "def load_and_check_nifti(file_path):\n",
    "    # Load the nifti file\n",
    "    img = nib.load(file_path)\n",
    "    \n",
    "    # Get the data array\n",
    "    data = img.get_fdata()\n",
    "    \n",
    "    # Get unique values (labels)\n",
    "    unique_labels = np.unique(data)\n",
    "    \n",
    "    print(\"数据形状:\", data.shape)\n",
    "    print(\"数据类型:\", data.dtype)\n",
    "    print(\"唯一标签值:\", unique_labels)\n",
    "    \n",
    "    return data, unique_labels\n",
    "\n",
    "# 使用函数\n",
    "file_path = '/Users/keyi/Desktop/MA/AutoPet_Anatomy/FDG-PET-CT-Lesions/PETCT_0af7ffe12a/08-12-2005-NA-PET-CT Ganzkoerper  primaer mit KM-96698/interpolated_ANASEG.nii.gz'\n",
    "data, labels = load_and_check_nifti(file_path)"
   ]
  }
 ],
 "metadata": {
  "kernelspec": {
   "display_name": "cvhci",
   "language": "python",
   "name": "python3"
  },
  "language_info": {
   "codemirror_mode": {
    "name": "ipython",
    "version": 3
   },
   "file_extension": ".py",
   "mimetype": "text/x-python",
   "name": "python",
   "nbconvert_exporter": "python",
   "pygments_lexer": "ipython3",
   "version": "3.10.14"
  }
 },
 "nbformat": 4,
 "nbformat_minor": 2
}
