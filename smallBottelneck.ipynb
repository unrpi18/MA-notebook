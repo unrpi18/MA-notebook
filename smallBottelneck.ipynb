{
 "cells": [
  {
   "cell_type": "code",
   "execution_count": 25,
   "metadata": {},
   "outputs": [
    {
     "data": {
      "text/plain": [
       "3"
      ]
     },
     "execution_count": 25,
     "metadata": {},
     "output_type": "execute_result"
    }
   ],
   "source": [
    "import torch.nn as nn\n",
    "import torch\n",
    "from monai.networks.nets import UNet\n",
    "from monai.networks.layers import Norm\n",
    "from omegaconf import DictConfig\n",
    "from loguru import logger\n",
    "\n",
    "class MirrorUNet(nn.Module):\n",
    "    def __init__(self):\n",
    "        super().__init__()\n",
    "        norm = \"instance\"\n",
    "        self.pathology_model = UNet(\n",
    "            spatial_dims=3,\n",
    "            in_channels=2,\n",
    "            out_channels=2,\n",
    "            channels=(32,64,128,256),\n",
    "            strides=(2,2,2),\n",
    "            num_res_units=2,\n",
    "            norm=norm,\n",
    "        )\n",
    "        self.anatomy_model = UNet(\n",
    "            spatial_dims=3,\n",
    "            in_channels=1, # ct\n",
    "            out_channels=145,\n",
    "            channels=(32,64,128,256,512,1024),\n",
    "            strides=(2,2,2,2,2),\n",
    "            # num_res_units=num_res_units,\n",
    "            norm=\"instance\",\n",
    "        )\n",
    "            \n",
    "m = MirrorUNet()\n",
    "m.pathology_model.model\n",
    "len(m.pathology_model.strides)"
   ]
  },
  {
   "cell_type": "code",
   "execution_count": 22,
   "metadata": {},
   "outputs": [
    {
     "name": "stdout",
     "output_type": "stream",
     "text": [
      "Conv3d(128, 256, kernel_size=(3, 3, 3), stride=(1, 1, 1), padding=(1, 1, 1))\n",
      "Conv3d(128, 256, kernel_size=(3, 3, 3), stride=(1, 1, 1), padding=(1, 1, 1))\n"
     ]
    }
   ],
   "source": [
    "def get_last_conv(layer, strides):\n",
    "    \"\"\"\n",
    "    Dynamically construct the path to the last convolution layer\n",
    "    and evaluate it to access the target Conv3d layer.\n",
    "\n",
    "    Args:\n",
    "        layer: The input SkipConnection layer.\n",
    "        strides: The number of strides (depth of traversal).\n",
    "    Returns:\n",
    "        The last Conv3d layer.\n",
    "    \"\"\"\n",
    "    #submodule[1] -> submodule[1] -> ...\n",
    "    path = \"layer\"\n",
    "    for _ in range(strides - 1):\n",
    "        path += \".submodule[1]\"\n",
    "    path += \".submodule.conv.unit0.conv\"  \n",
    "    \n",
    "    result = eval(path)\n",
    "    return result\n",
    "from monai.networks.layers import Norm, SkipConnection\n",
    "for i, layer in enumerate(m.pathology_model.model):\n",
    "    # print(f\"layer {i}: {layer}\")\n",
    "    if i == 1:\n",
    "        if isinstance(layer, SkipConnection):\n",
    "            # last_conv = layer.submodule[1].submodule[1].submodule.conv.unit0.conv\n",
    "            last_conv = get_last_conv(layer, 3)\n",
    "            print(last_conv)"
   ]
  }
 ],
 "metadata": {
  "kernelspec": {
   "display_name": "cvhci",
   "language": "python",
   "name": "python3"
  },
  "language_info": {
   "codemirror_mode": {
    "name": "ipython",
    "version": 3
   },
   "file_extension": ".py",
   "mimetype": "text/x-python",
   "name": "python",
   "nbconvert_exporter": "python",
   "pygments_lexer": "ipython3",
   "version": "3.10.14"
  }
 },
 "nbformat": 4,
 "nbformat_minor": 2
}
