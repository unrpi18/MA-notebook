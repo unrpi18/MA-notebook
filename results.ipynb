{
 "cells": [
  {
   "cell_type": "markdown",
   "metadata": {},
   "source": [
    "### 2c -unet"
   ]
  },
  {
   "cell_type": "code",
   "execution_count": 3,
   "metadata": {},
   "outputs": [
    {
     "name": "stdout",
     "output_type": "stream",
     "text": [
      "cc_dice_mean: 0.3140088938729698, fp_mean: 2.4088025273684215, fn_mean: 29.960499927668415\n"
     ]
    }
   ],
   "source": [
    "import numpy as np\n",
    "\n",
    "cc_dice = [0.31826627500191185, 0.3207301653286567, 0.27358620848291226, 0.3134164683902, 0.34404535216116805]\n",
    "fp = [1.0806333631578948, 0.420253152631579, 1.1934072473684212, 8.269085510526317, 1.0806333631578948]\n",
    "fn = [27.857526958389265, 43.84994147532468,40.73681312214765,19.488952437410074,17.869265645070424 ]\n",
    "\n",
    "print(f\"cc_dice_mean: {np.mean(cc_dice)}, fp_mean: {np.mean(fp)}, fn_mean: {np.mean(fn)}\")"
   ]
  },
  {
   "cell_type": "markdown",
   "metadata": {},
   "source": [
    "### 3c -unet"
   ]
  }
 ],
 "metadata": {
  "kernelspec": {
   "display_name": "cvhci",
   "language": "python",
   "name": "python3"
  },
  "language_info": {
   "codemirror_mode": {
    "name": "ipython",
    "version": 3
   },
   "file_extension": ".py",
   "mimetype": "text/x-python",
   "name": "python",
   "nbconvert_exporter": "python",
   "pygments_lexer": "ipython3",
   "version": "3.10.14"
  }
 },
 "nbformat": 4,
 "nbformat_minor": 2
}
