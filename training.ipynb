{
 "cells": [
  {
   "cell_type": "code",
   "execution_count": 1,
   "metadata": {},
   "outputs": [
    {
     "name": "stdout",
     "output_type": "stream",
     "text": [
      "50\n",
      "dict_keys(['CONCAT', 'INTERPOLATED_ANA', 'is_positive'])\n",
      "torch.Size([2, 96, 96, 96])\n",
      "torch.Size([1, 96, 96, 96])\n"
     ]
    }
   ],
   "source": [
    "import torch\n",
    "DS_PATH = \"/Users/keyi/Desktop/ds_11_23_multilabel_6tries/per_sample_1_train/sample_0_train.pt\"\n",
    "\n",
    "\n",
    "ds = torch.load(DS_PATH, weights_only=False)\n",
    "print(len(ds))\n",
    "print(ds[0].keys())\n",
    "print(ds[0]['CONCAT'].shape)\n",
    "print(ds[0]['INTERPOLATED_ANA'].shape)"
   ]
  },
  {
   "cell_type": "code",
   "execution_count": 8,
   "metadata": {},
   "outputs": [
    {
     "name": "stdout",
     "output_type": "stream",
     "text": [
      "2\n",
      "ds['CONCAT'].shape: torch.Size([2, 399, 399, 326])\n",
      "ds['INTERPOLATED_ANA'].shape: torch.Size([1, 399, 399, 326])\n",
      "ds['INTERPOLATED_ANA'].unique(): tensor([0.0000, 0.0182, 0.0364, 0.0545, 0.0909, 0.1091, 0.1273, 0.1455, 0.1636,\n",
      "        0.1818, 0.2000, 0.2182, 0.2364, 0.2545, 0.2727, 0.2909, 0.3636, 0.3818,\n",
      "        0.4000, 0.4182, 0.4364, 0.4545, 0.4727, 0.4909, 0.5091, 0.5273, 0.5455,\n",
      "        0.5636, 0.5818, 0.6000, 0.6182, 0.6364, 0.6545, 0.6727, 0.6909, 0.7091,\n",
      "        0.7273, 0.7455, 0.7636, 0.7818, 0.8000, 0.8182, 0.8364, 0.8545, 0.8727,\n",
      "        0.8909, 0.9091, 0.9273, 0.9455, 0.9636, 0.9818])\n"
     ]
    }
   ],
   "source": [
    "import torch\n",
    "DS_PATH = \"/Users/keyi/Desktop/ds_11_24_multilabel_7tries/per_sample_1_val/sample_0_val.pt\"\n",
    "\n",
    "ds = torch.load(DS_PATH, weights_only=False)\n",
    "print(len(ds))\n",
    "print(f\"ds['CONCAT'].shape: {ds['CONCAT'].shape}\")\n",
    "print(f\"ds['INTERPOLATED_ANA'].shape: {ds['INTERPOLATED_ANA'].shape}\")\n",
    "print(f\"ds['INTERPOLATED_ANA'].unique(): {ds['INTERPOLATED_ANA'].unique()}\")"
   ]
  },
  {
   "cell_type": "code",
   "execution_count": 1,
   "metadata": {},
   "outputs": [
    {
     "name": "stdout",
     "output_type": "stream",
     "text": [
      "Patch 0: is_positive = True\n",
      "Patch 1: is_positive = True\n",
      "Patch 2: is_positive = True\n",
      "Patch 3: is_positive = True\n",
      "Patch 4: is_positive = True\n",
      "Patch 5: is_positive = True\n",
      "Patch 6: is_positive = True\n",
      "Patch 7: is_positive = True\n",
      "Patch 8: is_positive = True\n",
      "Patch 9: is_positive = True\n",
      "Patch 10: is_positive = True\n",
      "Patch 11: is_positive = True\n",
      "Patch 12: is_positive = True\n",
      "Patch 13: is_positive = True\n",
      "Patch 14: is_positive = True\n",
      "Patch 15: is_positive = True\n",
      "Patch 16: is_positive = True\n",
      "Patch 17: is_positive = True\n",
      "Patch 18: is_positive = True\n",
      "Patch 19: is_positive = True\n",
      "Patch 20: is_positive = True\n",
      "Patch 21: is_positive = True\n",
      "Patch 22: is_positive = True\n",
      "Patch 23: is_positive = True\n",
      "Patch 24: is_positive = True\n",
      "Patch 25: is_positive = True\n",
      "Patch 26: is_positive = True\n",
      "Patch 27: is_positive = True\n",
      "Patch 28: is_positive = True\n",
      "Patch 29: is_positive = True\n",
      "Patch 30: is_positive = True\n",
      "Patch 31: is_positive = True\n",
      "Patch 32: is_positive = True\n",
      "Patch 33: is_positive = False\n",
      "Patch 34: is_positive = False\n",
      "Patch 35: is_positive = False\n",
      "Patch 36: is_positive = False\n",
      "Patch 37: is_positive = False\n",
      "Patch 38: is_positive = False\n",
      "Patch 39: is_positive = False\n",
      "Patch 40: is_positive = False\n",
      "Patch 41: is_positive = False\n",
      "Patch 42: is_positive = False\n",
      "Patch 43: is_positive = False\n",
      "Patch 44: is_positive = False\n",
      "Patch 45: is_positive = False\n",
      "Patch 46: is_positive = False\n",
      "Patch 47: is_positive = False\n",
      "Patch 48: is_positive = False\n",
      "Patch 49: is_positive = False\n",
      "torch.Size([2, 96, 96, 96])\n",
      "torch.Size([1, 96, 96, 96])\n",
      "metatensor([[[[0, 0, 0,  ..., 0, 0, 0],\n",
      "          [0, 0, 0,  ..., 0, 0, 0],\n",
      "          [0, 0, 0,  ..., 0, 0, 0],\n",
      "          ...,\n",
      "          [0, 0, 0,  ..., 0, 0, 0],\n",
      "          [0, 0, 0,  ..., 0, 0, 0],\n",
      "          [0, 0, 0,  ..., 0, 0, 0]],\n",
      "\n",
      "         [[0, 0, 0,  ..., 0, 0, 0],\n",
      "          [0, 0, 0,  ..., 0, 0, 0],\n",
      "          [0, 0, 0,  ..., 0, 0, 0],\n",
      "          ...,\n",
      "          [0, 0, 0,  ..., 0, 0, 0],\n",
      "          [0, 0, 0,  ..., 0, 0, 0],\n",
      "          [0, 0, 0,  ..., 0, 0, 0]],\n",
      "\n",
      "         [[0, 0, 0,  ..., 0, 0, 0],\n",
      "          [0, 0, 0,  ..., 0, 0, 0],\n",
      "          [0, 0, 0,  ..., 0, 0, 0],\n",
      "          ...,\n",
      "          [0, 0, 0,  ..., 0, 0, 0],\n",
      "          [0, 0, 0,  ..., 0, 0, 0],\n",
      "          [0, 0, 0,  ..., 0, 0, 0]],\n",
      "\n",
      "         ...,\n",
      "\n",
      "         [[0, 0, 0,  ..., 0, 0, 0],\n",
      "          [0, 0, 0,  ..., 0, 0, 0],\n",
      "          [0, 0, 0,  ..., 0, 0, 0],\n",
      "          ...,\n",
      "          [0, 0, 0,  ..., 0, 0, 0],\n",
      "          [0, 0, 0,  ..., 0, 0, 0],\n",
      "          [0, 0, 0,  ..., 0, 0, 0]],\n",
      "\n",
      "         [[0, 0, 0,  ..., 0, 0, 0],\n",
      "          [0, 0, 0,  ..., 0, 0, 0],\n",
      "          [0, 0, 0,  ..., 0, 0, 0],\n",
      "          ...,\n",
      "          [0, 0, 0,  ..., 0, 0, 0],\n",
      "          [0, 0, 0,  ..., 0, 0, 0],\n",
      "          [0, 0, 0,  ..., 0, 0, 0]],\n",
      "\n",
      "         [[0, 0, 0,  ..., 0, 0, 0],\n",
      "          [0, 0, 0,  ..., 0, 0, 0],\n",
      "          [0, 0, 0,  ..., 0, 0, 0],\n",
      "          ...,\n",
      "          [0, 0, 0,  ..., 0, 0, 0],\n",
      "          [0, 0, 0,  ..., 0, 0, 0],\n",
      "          [0, 0, 0,  ..., 0, 0, 0]]]], dtype=torch.uint8)\n"
     ]
    }
   ],
   "source": [
    "import torch\n",
    "DS_PATH = \"/Users/keyi/Desktop/ds_11_25_multilabel_8tries/per_sample_1_train/sample_0_train.pt\"\n",
    "ds = torch.load(DS_PATH, weights_only=False)\n",
    "for i in range(len(ds)):\n",
    "    print(f\"Patch {i}: is_positive = {ds[i]['is_positive']}\")\n",
    "\n",
    "\n",
    "# positive_count = sum(1 for i in range(len(ds)) if ds[i]['is_positive'])\n",
    "# print(f\"Total samples: {len(ds)}\")\n",
    "# print(f\"Positive samples: {positive_count}\")\n",
    "# print(f\"Negative samples: {len(ds) - positive_count}\")\n",
    "\n",
    "print(ds[48]['CONCAT'].shape)\n",
    "print(ds[48]['INTERPOLATED_ANA'].shape)\n",
    "print(ds[48]['INTERPOLATED_ANA'])"
   ]
  }
 ],
 "metadata": {
  "kernelspec": {
   "display_name": "cvhci",
   "language": "python",
   "name": "python3"
  },
  "language_info": {
   "codemirror_mode": {
    "name": "ipython",
    "version": 3
   },
   "file_extension": ".py",
   "mimetype": "text/x-python",
   "name": "python",
   "nbconvert_exporter": "python",
   "pygments_lexer": "ipython3",
   "version": "3.10.14"
  }
 },
 "nbformat": 4,
 "nbformat_minor": 2
}
