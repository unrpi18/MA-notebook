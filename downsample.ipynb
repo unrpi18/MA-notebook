{
 "cells": [
  {
   "cell_type": "code",
   "execution_count": 2,
   "metadata": {},
   "outputs": [
    {
     "name": "stdout",
     "output_type": "stream",
     "text": [
      "(400, 400, 326)\n"
     ]
    }
   ],
   "source": [
    "# COMMAND: python -m ana.interpolate DATASET.DATA_DIR=\"/Users/keyi/Desktop/MA/AutoPet_Anatomy/FDG-PET-CT-Lesions\"\n",
    "interpolated_ana_path = '/Users/keyi/Desktop/MA/AutoPet_Anatomy/FDG-PET-CT-Lesions/PETCT_0beb67c923/07-25-1999-NA-PET-CT Ganzkoerper  primaer mit KM-37911/interpolated_ANASEG.nii.gz'\n",
    "import nibabel as nib\n",
    "\n",
    "interpolated_ana = nib.load(interpolated_ana_path).get_fdata()\n",
    "print(interpolated_ana.shape)\n"
   ]
  }
 ],
 "metadata": {
  "kernelspec": {
   "display_name": "cvhci",
   "language": "python",
   "name": "python3"
  },
  "language_info": {
   "codemirror_mode": {
    "name": "ipython",
    "version": 3
   },
   "file_extension": ".py",
   "mimetype": "text/x-python",
   "name": "python",
   "nbconvert_exporter": "python",
   "pygments_lexer": "ipython3",
   "version": "3.10.14"
  }
 },
 "nbformat": 4,
 "nbformat_minor": 2
}
