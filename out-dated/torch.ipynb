{
 "cells": [
  {
   "cell_type": "code",
   "execution_count": 18,
   "metadata": {},
   "outputs": [
    {
     "name": "stdout",
     "output_type": "stream",
     "text": [
      "cross_stitch_matrix: Parameter containing:\n",
      "tensor([[0.9000, 0.1000],\n",
      "        [0.3000, 0.7000]], requires_grad=True)\n",
      "combined_features: tensor([[-1.1454,  0.4104, -0.5619,  ..., -1.1490,  1.6533,  0.2796],\n",
      "        [ 1.7587, -0.2000, -0.1929,  ...,  0.6220,  0.2710,  0.8797]])\n",
      "torch.Size([1, 8388608])\n",
      "torch.Size([1, 8388608])\n",
      "combined_features shape: torch.Size([2, 8388608])\n",
      "results: torch.Size([1, 32, 64, 64, 64])\n"
     ]
    }
   ],
   "source": [
    "import torch\n",
    "import torch.nn as nn\n",
    "task_features = [torch.randn([1,32,64,64,64]),torch.randn([1,32,64,64,64])]\n",
    "feature1 = torch.randn([1,32,64,64,64])\n",
    "feature2 = torch.randn([1,32,64,64,64])\n",
    "cross_stitch_matrix = nn.Parameter(torch.Tensor([[0.9,0.1],[0.3,0.7]]))\n",
    "print(f\"cross_stitch_matrix: {cross_stitch_matrix}\")\n",
    "feature1_view = feature1.view(1,-1)\n",
    "feature2_view = feature2.view(1,-1)\n",
    "combined_features = torch.cat([feature1_view,feature2_view],dim=0) # [2,2]\n",
    "print(f\"combined_features: {combined_features}\")\n",
    "print(feature1_view.shape)\n",
    "print(feature2_view.shape)\n",
    "print(f\"combined_features shape: {combined_features.shape}\") # [2, # of features]\n",
    "\n",
    "cross_stitched = torch.matmul(cross_stitch_matrix, combined_features)\n",
    "results = [\n",
    "            cross_stitched[i].view(task_features[i].shape) for i in range(len(task_features))\n",
    "        ]\n",
    "print(f\"results: {results[0].shape}\")\n"
   ]
  }
 ],
 "metadata": {
  "kernelspec": {
   "display_name": "cvhci",
   "language": "python",
   "name": "python3"
  },
  "language_info": {
   "codemirror_mode": {
    "name": "ipython",
    "version": 3
   },
   "file_extension": ".py",
   "mimetype": "text/x-python",
   "name": "python",
   "nbconvert_exporter": "python",
   "pygments_lexer": "ipython3",
   "version": "3.10.14"
  }
 },
 "nbformat": 4,
 "nbformat_minor": 2
}
