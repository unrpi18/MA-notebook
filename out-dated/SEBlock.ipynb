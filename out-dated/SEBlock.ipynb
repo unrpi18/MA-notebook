{
 "cells": [
  {
   "cell_type": "code",
   "execution_count": 1,
   "metadata": {},
   "outputs": [
    {
     "name": "stdout",
     "output_type": "stream",
     "text": [
      "torch.Size([1, 1024, 3, 3, 3])\n"
     ]
    }
   ],
   "source": [
    "from monai.networks.blocks import ChannelSELayer\n",
    "import torch\n",
    "a =torch.randn(1, 1024, 3, 3, 3)\n",
    "layer = ChannelSELayer(spatial_dims=3, in_channels=1024)\n",
    "r = layer(a)\n",
    "print(r.shape)"
   ]
  }
 ],
 "metadata": {
  "kernelspec": {
   "display_name": "cvhci",
   "language": "python",
   "name": "python3"
  },
  "language_info": {
   "codemirror_mode": {
    "name": "ipython",
    "version": 3
   },
   "file_extension": ".py",
   "mimetype": "text/x-python",
   "name": "python",
   "nbconvert_exporter": "python",
   "pygments_lexer": "ipython3",
   "version": "3.10.14"
  }
 },
 "nbformat": 4,
 "nbformat_minor": 2
}
