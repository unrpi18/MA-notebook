{
    "cells": [
        {
            "cell_type": "code",
            "execution_count": 20,
            "metadata": {},
            "outputs": [],
            "source": [
                "import numpy as np\n",
                "\n",
                "def calculate_mean_std(name:str, data:list):\n",
                "    mean = np.mean(data)\n",
                "    std = np.std(data, ddof=1)\n",
                "    print(f\"{name}: Mean: {mean:.3f} ±  {std:.3f}\")\n"
            ]
        },
        {
            "cell_type": "code",
            "execution_count": 21,
            "metadata": {},
            "outputs": [
                {
                    "name": "stdout",
                    "output_type": "stream",
                    "text": [
                        "dynunet2d_dice: Mean: 0.335 ±  0.033\n",
                        "dynunet2d_hd95: Mean: 245.920 ±  88.206\n",
                        "dynunet2d_asd: Mean: 74.059 ±  30.865\n",
                        "dynunet2d_IoU: Mean: 0.232 ±  0.027\n",
                        "dynunet2d_ccDice: Mean: 0.238 ±  0.028\n",
                        "dynunet2d_ccHD95: Mean: 161.380 ±  67.808\n",
                        "dynunet2d_ccASD: Mean: 86.580 ±  38.477\n",
                        "dynunet2d_ccIoU: Mean: 0.181 ±  0.024\n"
                    ]
                }
            ],
            "source": [
                "dynunet2d_dice = [0.369, 0.306, 0.348, 0.295, 0.358]\n",
                "dynunet2d_hd95 = [149.9, 291.6, 150.4, 313.7, 324]\n",
                "dynunet2d_asd = [41.3, 77.3, 52.893, 121.7, 77.1]\n",
                "dynunet2d_IoU = [0.257, 0.208, 0.249, 0.198, 0.25]\n",
                "dynunet2d_ccDice = [0.244, 0.229, 0.242, 0.199, 0.277]\n",
                "dynunet2d_ccHD95 = [91.3, 177.8, 89, 228.2, 220.6]\n",
                "dynunet2d_ccASD = [46.1, 98.9, 51.2,139.1, 97.6]\n",
                "dynunet2d_ccIoU =[0.183, 0.173, 0.188, 0.147, 0.212]\n",
                "\n",
                "\n",
                "calculate_mean_std(\"dynunet2d_dice\", dynunet2d_dice)\n",
                "calculate_mean_std(\"dynunet2d_hd95\", dynunet2d_hd95)\n",
                "calculate_mean_std(\"dynunet2d_asd\", dynunet2d_asd)\n",
                "calculate_mean_std(\"dynunet2d_IoU\", dynunet2d_IoU)\n",
                "calculate_mean_std(\"dynunet2d_ccDice\", dynunet2d_ccDice)\n",
                "calculate_mean_std(\"dynunet2d_ccHD95\", dynunet2d_ccHD95)\n",
                "calculate_mean_std(\"dynunet2d_ccASD\", dynunet2d_ccASD)\n",
                "calculate_mean_std(\"dynunet2d_ccIoU\", dynunet2d_ccIoU)"
            ]
        },
        {
            "cell_type": "code",
            "execution_count": 22,
            "metadata": {},
            "outputs": [
                {
                    "name": "stdout",
                    "output_type": "stream",
                    "text": [
                        "dynunet3d_dice: Mean: 0.377 ±  0.039\n",
                        "dynunet3d_hd95: Mean: 162.040 ±  55.370\n",
                        "dynunet3d_asd: Mean: 43.500 ±  9.174\n",
                        "dynunet3d_IoU: Mean: 0.270 ±  0.036\n",
                        "dynunet3d_ccDice: Mean: 0.270 ±  0.036\n",
                        "dynunet3d_ccHD95: Mean: 95.660 ±  37.040\n",
                        "dynunet3d_ccASD: Mean: 45.100 ±  15.697\n",
                        "dynunet3d_ccIoU: Mean: 0.208 ±  0.029\n"
                    ]
                }
            ],
            "source": [
                "dynunet3d_dice = [0.382, 0.338,    0.335, 0.408, 0.420]\n",
                "dynunet3d_hd95 = [135.5, 129.1,    114.7, 251,   179.9]\n",
                "dynunet3d_asd = [36.9,    39.1,     35.2,  50.1,  56.2]\n",
                "dynunet3d_IoU = [0.274,   0.236,    0.230, 0.300, 0.310]\n",
                "dynunet3d_ccDice = [0.271, 0.236,    0.244, 0.271, 0.329]\n",
                "dynunet3d_ccHD95 = [79.2,  73.1,     59.1,  149.5, 117.4]\n",
                "dynunet3d_ccASD = [39.1,    35.7,    29.3,   68.6,  52.8]\n",
                "dynunet3d_ccIoU =[0.208, 0.181,     0.188,  0.21,   0.255]\n",
                "\n",
                "\n",
                "calculate_mean_std(\"dynunet3d_dice\", dynunet3d_dice)\n",
                "calculate_mean_std(\"dynunet3d_hd95\", dynunet3d_hd95)\n",
                "calculate_mean_std(\"dynunet3d_asd\", dynunet3d_asd)\n",
                "calculate_mean_std(\"dynunet3d_IoU\", dynunet3d_IoU)\n",
                "calculate_mean_std(\"dynunet3d_ccDice\", dynunet3d_ccDice)\n",
                "calculate_mean_std(\"dynunet3d_ccHD95\", dynunet3d_ccHD95)\n",
                "calculate_mean_std(\"dynunet3d_ccASD\", dynunet3d_ccASD)\n",
                "calculate_mean_std(\"dynunet3d_ccIoU\", dynunet3d_ccIoU)"
            ]
        },
        {
            "cell_type": "code",
            "execution_count": 23,
            "metadata": {},
            "outputs": [
                {
                    "name": "stdout",
                    "output_type": "stream",
                    "text": [
                        "unet2d_dice: Mean: 0.471 ±  0.030\n",
                        "unet2d_hd95: Mean: 87.180 ±  9.419\n",
                        "unet2d_asd: Mean: 21.220 ±  6.034\n",
                        "unet2d_IoU: Mean: 0.353 ±  0.029\n",
                        "unet2d_ccDice: Mean: 0.282 ±  0.040\n",
                        "unet2d_ccHD95: Mean: 31.780 ±  14.343\n",
                        "unet2d_ccASD: Mean: 14.024 ±  8.269\n",
                        "unet2d_ccIoU: Mean: 0.223 ±  0.033\n"
                    ]
                }
            ],
            "source": [
                "unet2d_dice = [0.437, 0.46, 0.457, 0.488, 0.513]\n",
                "unet2d_hd95 = [87.1, 83.5,  81.5,  80.4, 103.4]\n",
                "unet2d_asd = [28.0,  19.5,   15.8, 15.6,  27.2]\n",
                "unet2d_IoU = [0.323, 0.342, 0.339, 0.36, 0.400]\n",
                "unet2d_ccDice = [0.25, 0.280, 0.244,0.294, 0.344]\n",
                "unet2d_ccHD95 = [33.8,  27.5,  19.1,  23.0, 55.5]\n",
                "unet2d_ccASD = [18.2,  12.1,  6.87, 6.75, 26.2]\n",
                "unet2d_ccIoU =[0.196, 0.220,  0.192, 0.234, 0.273]\n",
                "\n",
                "calculate_mean_std(\"unet2d_dice\", unet2d_dice)\n",
                "calculate_mean_std(\"unet2d_hd95\", unet2d_hd95)\n",
                "calculate_mean_std(\"unet2d_asd\", unet2d_asd)\n",
                "calculate_mean_std(\"unet2d_IoU\", unet2d_IoU)\n",
                "calculate_mean_std(\"unet2d_ccDice\", unet2d_ccDice)\n",
                "calculate_mean_std(\"unet2d_ccHD95\", unet2d_ccHD95)\n",
                "calculate_mean_std(\"unet2d_ccASD\", unet2d_ccASD)\n",
                "calculate_mean_std(\"unet2d_ccIoU\", unet2d_ccIoU)"
            ]
        },
        {
            "cell_type": "code",
            "execution_count": 24,
            "metadata": {},
            "outputs": [
                {
                    "name": "stdout",
                    "output_type": "stream",
                    "text": [
                        "unet3d_dice: Mean: 0.507 ±  0.030\n",
                        "unet3d_hd95: Mean: 85.600 ±  3.500\n",
                        "unet3d_asd: Mean: 18.340 ±  2.815\n",
                        "unet3d_IoU: Mean: 0.386 ±  0.027\n",
                        "unet3d_ccDice: Mean: 0.295 ±  0.034\n",
                        "unet3d_ccHD95: Mean: 30.060 ±  3.529\n",
                        "unet3d_ccASD: Mean: 12.142 ±  2.683\n",
                        "unet3d_ccIoU: Mean: 0.234 ±  0.028\n"
                    ]
                }
            ],
            "source": [
                "unet3d_dice = [0.519, 0.511, 0.455, 0.525, 0.525]\n",
                "unet3d_hd95 = [83.6, 85.9,  91.5,  82.7, 84.3]\n",
                "unet3d_asd = [19.3,  17.1,   18.9, 14.4,  22.0]\n",
                "unet3d_IoU = [0.396, 0.387, 0.341, 0.399, 0.409]\n",
                "unet3d_ccDice = [0.296, 0.316, 0.236,0.317, 0.308]\n",
                "unet3d_ccHD95 = [31.3,  33.4,  24.4,  29.1, 32.1]\n",
                "unet3d_ccASD = [14.0,  14.2,  9.10,  9.31, 14.1]\n",
                "unet3d_ccIoU =[0.235, 0.250,  0.186, 0.252, 0.248]\n",
                "\n",
                "calculate_mean_std(\"unet3d_dice\", unet3d_dice)\n",
                "calculate_mean_std(\"unet3d_hd95\", unet3d_hd95)\n",
                "calculate_mean_std(\"unet3d_asd\", unet3d_asd)\n",
                "calculate_mean_std(\"unet3d_IoU\", unet3d_IoU)\n",
                "calculate_mean_std(\"unet3d_ccDice\", unet3d_ccDice)\n",
                "calculate_mean_std(\"unet3d_ccHD95\", unet3d_ccHD95)\n",
                "calculate_mean_std(\"unet3d_ccASD\", unet3d_ccASD)\n",
                "calculate_mean_std(\"unet3d_ccIoU\", unet3d_ccIoU)"
            ]
        }
    ],
    "metadata": {
        "kernelspec": {
            "display_name": "cvhci",
            "language": "python",
            "name": "python3"
        },
        "language_info": {
            "codemirror_mode": {
                "name": "ipython",
                "version": 3
            },
            "file_extension": ".py",
            "mimetype": "text/x-python",
            "name": "python",
            "nbconvert_exporter": "python",
            "pygments_lexer": "ipython3",
            "version": "3.10.14"
        }
    },
    "nbformat": 4,
    "nbformat_minor": 2
}
