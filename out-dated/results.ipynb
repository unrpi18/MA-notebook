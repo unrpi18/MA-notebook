{
 "cells": [
  {
   "cell_type": "markdown",
   "metadata": {},
   "source": [
    "### 2c -unet"
   ]
  },
  {
   "cell_type": "code",
   "execution_count": 3,
   "metadata": {},
   "outputs": [
    {
     "name": "stdout",
     "output_type": "stream",
     "text": [
      "cc_dice_mean: 0.3140088938729698, fp_mean: 2.4088025273684215, fn_mean: 29.960499927668415\n"
     ]
    }
   ],
   "source": [
    "import numpy as np\n",
    "\n",
    "cc_dice = [0.31826627500191185, 0.3207301653286567, 0.27358620848291226, 0.3134164683902, 0.34404535216116805]\n",
    "fp = [1.0806333631578948, 0.420253152631579, 1.1934072473684212, 8.269085510526317, 1.0806333631578948]\n",
    "fn = [27.857526958389265, 43.84994147532468,40.73681312214765,19.488952437410074,17.869265645070424 ]\n",
    "\n",
    "print(f\"cc_dice_mean: {np.mean(cc_dice)}, fp_mean: {np.mean(fp)}, fn_mean: {np.mean(fn)}\")"
   ]
  },
  {
   "cell_type": "markdown",
   "metadata": {},
   "source": [
    "### 3c -unet"
   ]
  },
  {
   "cell_type": "code",
   "execution_count": 2,
   "metadata": {},
   "outputs": [
    {
     "name": "stdout",
     "output_type": "stream",
     "text": [
      "cc_dice_mean: 0.3257991436185229, fp_mean: 3.163631892631579, fn_mean: 23.771409966972072\n"
     ]
    }
   ],
   "source": [
    "import numpy as np\n",
    "\n",
    "cc_dice = [0.32832649781437206, 0.3363730273555041, 0.2859789457484644, 0.3638869305544128, 0.3144303166198614]\n",
    "fp = [0.9769766684210526, 3.3948388894736845, 1.4454441473684212, 8.907617321052632, 1.0932824368421055]\n",
    "fn = [25.064869916778527, 25.27563974025974,32.51527905503356,16.37691394532374, 19.62434717746479 ]\n",
    "\n",
    "print(f\"cc_dice_mean: {np.mean(cc_dice)}, fp_mean: {np.mean(fp)}, fn_mean: {np.mean(fn)}\")"
   ]
  },
  {
   "cell_type": "markdown",
   "metadata": {},
   "source": [
    "### mixture -unet"
   ]
  },
  {
   "cell_type": "code",
   "execution_count": 3,
   "metadata": {},
   "outputs": [
    {
     "name": "stdout",
     "output_type": "stream",
     "text": [
      "cc_dice_mean: 0.3257724556952114, fp_mean: 2.400703834736842, fn_mean: 36.21524862571766\n"
     ]
    }
   ],
   "source": [
    "import numpy as np\n",
    "\n",
    "cc_dice = [0.2972769730125199, 0.3390618879437418, 0.2962864030560241, 0.3647744372429004, 0.3314625772208705]\n",
    "fp = [0.7431330789473685, 0.5356143473684211, 1.5979311947368422, 7.864684768421053, 1.2621557842105264]\n",
    "fn = [56.23740454228189, 39.78135593766234,46.27369623624162,17.61695098705036, 21.16683542535211]\n",
    "\n",
    "print(f\"cc_dice_mean: {np.mean(cc_dice)}, fp_mean: {np.mean(fp)}, fn_mean: {np.mean(fn)}\")"
   ]
  },
  {
   "cell_type": "code",
   "execution_count": 1,
   "metadata": {},
   "outputs": [
    {
     "name": "stdout",
     "output_type": "stream",
     "text": [
      "dice_mean: 0.54528, dice_std: 0.029784183722237543\n"
     ]
    }
   ],
   "source": [
    "import numpy as np\n",
    "\n",
    "dice = [0.5713, 0.5487, 0.4930, 0.5761, 0.5373]\n",
    "\n",
    "dice_mean = np.mean(dice)\n",
    "dice_std = np.std(dice)\n",
    "\n",
    "print(f\"dice_mean: {dice_mean}, dice_std: {dice_std}\")\n",
    "\n",
    "\n",
    "\n"
   ]
  },
  {
   "cell_type": "code",
   "execution_count": 1,
   "metadata": {},
   "outputs": [
    {
     "name": "stdout",
     "output_type": "stream",
     "text": [
      "30.0\n"
     ]
    }
   ],
   "source": [
    "day_per_role = 15\n",
    "goal = 4500\n",
    "number_of_roles = 10\n",
    "\n",
    "total_days = day_per_role * number_of_roles\n",
    "\n",
    "divided_goal = goal / total_days\n",
    "\n",
    "print(divided_goal)\n",
    "\n",
    "\n",
    "\n"
   ]
  },
  {
   "cell_type": "code",
   "execution_count": 1,
   "metadata": {},
   "outputs": [
    {
     "name": "stdout",
     "output_type": "stream",
     "text": [
      "0.22270000000000004\n"
     ]
    }
   ],
   "source": [
    "import numpy as np\n",
    "l = [0.2113,\t0.1958,\t0.2131,\t0.2384,\t0.2549]\n",
    "\n",
    "print(np.mean(l))\n",
    "\n",
    "\n",
    "\n"
   ]
  },
  {
   "cell_type": "code",
   "execution_count": 7,
   "metadata": {},
   "outputs": [
    {
     "data": {
      "text/plain": [
       "datetime.date(2025, 6, 15)"
      ]
     },
     "execution_count": 7,
     "metadata": {},
     "output_type": "execute_result"
    }
   ],
   "source": [
    "from datetime import timedelta,date\n",
    "delta = timedelta(\n",
    "    days=100)\n",
    "date = date.today() + delta\n",
    "date"
   ]
  },
  {
   "cell_type": "code",
   "execution_count": 15,
   "metadata": {},
   "outputs": [
    {
     "name": "stdout",
     "output_type": "stream",
     "text": [
      "1.7588888888888887\n",
      "1.5691666666666666\n"
     ]
    }
   ],
   "source": [
    "current = 71\n",
    "gpa = 2.0\n",
    "\n",
    "algo = (6,4.0)\n",
    "asb = (6, 1.3)\n",
    "dlnn = (6,3.3)\n",
    "cv2 = (3,2.7)\n",
    "me = (6,1.0)\n",
    "\n",
    "new_total = current + algo[0] + asb[0] - dlnn[0] - cv2[0] + me[0]\n",
    "\n",
    "avg = 2.0 * current  + algo[1] * algo[0] + asb[1] * asb[0] - dlnn[1] * dlnn[0] - cv2[1] * cv2[0] + me[1] * me[0]\n",
    "\n",
    "temp = avg / new_total\n",
    "\n",
    "# next semester\n",
    "\n",
    "ak = (4.5, 4.0)\n",
    "sec = (6,1.7)\n",
    "wr = (4, 1.3)\n",
    "new_m = (4.5,2.0)\n",
    "\n",
    "current_total = new_total\n",
    "new_total = new_total - ak[0] + sec[0] + wr[0] + new_m[0]\n",
    "\n",
    "new_avg = current_total * temp - ak[1] * ak[0] + sec[1] * sec[0] + wr[1] * wr[0] + new_m[1] * new_m[0]\n",
    "\n",
    "new_gpa = new_avg / new_total\n",
    "\n",
    "print(new_gpa)\n",
    "\n",
    "# MA\n",
    "new_avg = 90 * new_gpa + 30 * 1.0\n",
    "new_gpa = new_avg / 120\n",
    "print(new_gpa)\n",
    "\n",
    "\n",
    "\n"
   ]
  }
 ],
 "metadata": {
  "kernelspec": {
   "display_name": "cvhci",
   "language": "python",
   "name": "python3"
  },
  "language_info": {
   "codemirror_mode": {
    "name": "ipython",
    "version": 3
   },
   "file_extension": ".py",
   "mimetype": "text/x-python",
   "name": "python",
   "nbconvert_exporter": "python",
   "pygments_lexer": "ipython3",
   "version": "3.10.14"
  }
 },
 "nbformat": 4,
 "nbformat_minor": 2
}
