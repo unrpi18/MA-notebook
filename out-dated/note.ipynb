{
 "cells": [
  {
   "cell_type": "code",
   "execution_count": 27,
   "metadata": {
    "ExecuteTime": {
     "end_time": "2024-09-05T11:36:34.751372Z",
     "start_time": "2024-09-05T11:36:33.771Z"
    }
   },
   "outputs": [
    {
     "name": "stdout",
     "output_type": "stream",
     "text": [
      "ana shape: (400, 400, 304)\n",
      "ctrs shape: (400, 400, 304)\n",
      "suv shape: (400, 400, 304)\n",
      "seg shape: (400, 400, 304)\n"
     ]
    }
   ],
   "source": [
    "import nibabel as nib\n",
    "\n",
    "ana = nib.load('/Users/keyi/Desktop/MA/AutoPet_Anatomy/FDG-PET-CT-Lesions/PETCT_0af7ffe12a/08-12-2005-NA-PET-CT Ganzkoerper  primaer mit KM-96698/ANASEG.nii.gz')\n",
    "ctrs = nib.load('/Users/keyi/Desktop/MA/AutoPet_Anatomy/FDG-PET-CT-Lesions/PETCT_0af7ffe12a/08-12-2005-NA-PET-CT Ganzkoerper  primaer mit KM-96698/CTres.nii.gz')\n",
    "suv = nib.load('/Users/keyi/Desktop/MA/AutoPet_Anatomy/FDG-PET-CT-Lesions/PETCT_0af7ffe12a/08-12-2005-NA-PET-CT Ganzkoerper  primaer mit KM-96698/SUV.nii.gz')\n",
    "seg = nib.load('/Users/keyi/Desktop/MA/AutoPet_Anatomy/FDG-PET-CT-Lesions/PETCT_0af7ffe12a/08-12-2005-NA-PET-CT Ganzkoerper  primaer mit KM-96698/SEG.nii.gz')\n",
    "ana_data = ana.get_fdata()\n",
    "ctrs_data = ctrs.get_fdata()\n",
    "suv_data = suv.get_fdata()\n",
    "seg_data = seg.get_fdata()\n",
    "print(\"ana shape:\", ana_data.shape)\n",
    "print(\"ctrs shape:\", ctrs_data.shape)\n",
    "print(\"suv shape:\", suv_data.shape)\n",
    "print(\"seg shape:\", seg_data.shape)"
   ]
  },
  {
   "cell_type": "code",
   "execution_count": 28,
   "metadata": {},
   "outputs": [
    {
     "name": "stderr",
     "output_type": "stream",
     "text": [
      "\u001b[32m2024-10-05 20:22:06.461\u001b[0m | \u001b[1mINFO    \u001b[0m | \u001b[36m__main__\u001b[0m:\u001b[36m<module>\u001b[0m:\u001b[36m2\u001b[0m - \u001b[1m==================================================\u001b[0m\n",
      "\u001b[32m2024-10-05 20:22:06.462\u001b[0m | \u001b[1mINFO    \u001b[0m | \u001b[36m__main__\u001b[0m:\u001b[36m<module>\u001b[0m:\u001b[36m3\u001b[0m - \u001b[1m                  Begins Fold 1                   \u001b[0m\n",
      "\u001b[32m2024-10-05 20:22:06.462\u001b[0m | \u001b[1mINFO    \u001b[0m | \u001b[36m__main__\u001b[0m:\u001b[36m<module>\u001b[0m:\u001b[36m4\u001b[0m - \u001b[1m==================================================\n",
      "\u001b[0m\n"
     ]
    }
   ],
   "source": [
    "from loguru import logger\n",
    "logger.info(\"=\"*50)\n",
    "logger.info(f\"Begins Fold 1\".center(50))\n",
    "logger.info(\"=\"*50 + \"\\n\")"
   ]
  },
  {
   "cell_type": "code",
   "execution_count": 29,
   "metadata": {},
   "outputs": [
    {
     "name": "stderr",
     "output_type": "stream",
     "text": [
      "\u001b[32m2024-10-05 20:22:06.468\u001b[0m | \u001b[1mINFO    \u001b[0m | \u001b[36m__main__\u001b[0m:\u001b[36m<module>\u001b[0m:\u001b[36m1\u001b[0m - \u001b[1m====================================================================================================\u001b[0m\n",
      "\u001b[32m2024-10-05 20:22:06.469\u001b[0m | \u001b[1mINFO    \u001b[0m | \u001b[36m__main__\u001b[0m:\u001b[36m<module>\u001b[0m:\u001b[36m2\u001b[0m - \u001b[1m        ATTENTION: THE PREPROCESSED DATA IS NOT EXIST, BEGIN CREATING THE PREPROCESSED DATA         \u001b[0m\n",
      "\u001b[32m2024-10-05 20:22:06.469\u001b[0m | \u001b[1mINFO    \u001b[0m | \u001b[36m__main__\u001b[0m:\u001b[36m<module>\u001b[0m:\u001b[36m3\u001b[0m - \u001b[1m                    ATTENTION: THIS MODE WILL NOT CREATE THE DATALOADER DIRECTLY                    \u001b[0m\n",
      "\u001b[32m2024-10-05 20:22:06.470\u001b[0m | \u001b[1mINFO    \u001b[0m | \u001b[36m__main__\u001b[0m:\u001b[36m<module>\u001b[0m:\u001b[36m4\u001b[0m - \u001b[1m        ATTENTION: AFTER THE PREPROCESSED DATA IS SAVED, TRY TO RELOAD THE DATALOADER AGAIN         \u001b[0m\n",
      "\u001b[32m2024-10-05 20:22:06.470\u001b[0m | \u001b[1mINFO    \u001b[0m | \u001b[36m__main__\u001b[0m:\u001b[36m<module>\u001b[0m:\u001b[36m5\u001b[0m - \u001b[1m====================================================================================================\n",
      "\u001b[0m\n"
     ]
    }
   ],
   "source": [
    "logger.info(\"=\"*100)\n",
    "logger.info(\"ATTENTION: THE PREPROCESSED DATA IS NOT EXIST, BEGIN CREATING THE PREPROCESSED DATA\".center(100))\n",
    "logger.info(f\"ATTENTION: THIS MODE WILL NOT CREATE THE DATALOADER DIRECTLY\".center(100))\n",
    "logger.info(f\"ATTENTION: AFTER THE PREPROCESSED DATA IS SAVED, TRY TO RELOAD THE DATALOADER AGAIN\".center(100))\n",
    "logger.info(\"=\"*100 + \"\\n\")"
   ]
  },
  {
   "cell_type": "code",
   "execution_count": 30,
   "metadata": {},
   "outputs": [
    {
     "name": "stdout",
     "output_type": "stream",
     "text": [
      "Number of classes: 115\n",
      "Number of unique labels in ANASEG: [  0.   1.   2.   3.   5.   6.   7.   8.   9.  10.  11.  12.  13.  14.\n",
      "  15.  16.  17.  18.  19.  20.  21.  25.  26.  27.  28.  29.  30.  31.\n",
      "  32.  33.  34.  35.  36.  37.  38.  39.  40.  41.  42.  43.  44.  45.\n",
      "  46.  47.  48.  49.  50.  51.  52.  53.  54.  55.  56.  57.  58.  59.\n",
      "  60.  61.  62.  63.  64.  65.  66.  67.  68.  69.  70.  71.  72.  73.\n",
      "  74.  75.  76.  77.  78.  79.  80.  81.  82.  83.  84.  85.  86.  87.\n",
      "  88.  89.  90.  91.  92.  93.  94.  95.  96.  97.  98.  99. 100. 101.\n",
      " 102. 103. 104. 105. 106. 107. 108. 109. 110. 111. 112. 113. 114. 115.\n",
      " 116. 117.]\n"
     ]
    },
    {
     "ename": "KeyboardInterrupt",
     "evalue": "",
     "output_type": "error",
     "traceback": [
      "\u001b[0;31m---------------------------------------------------------------------------\u001b[0m",
      "\u001b[0;31mKeyboardInterrupt\u001b[0m                         Traceback (most recent call last)",
      "Cell \u001b[0;32mIn[30], line 25\u001b[0m\n\u001b[1;32m     23\u001b[0m \u001b[38;5;66;03m# normalize the data to 0-1\u001b[39;00m\n\u001b[1;32m     24\u001b[0m \u001b[38;5;28;01mfor\u001b[39;00m i, label \u001b[38;5;129;01min\u001b[39;00m \u001b[38;5;28menumerate\u001b[39m(np\u001b[38;5;241m.\u001b[39munique(anaseg_data)):\n\u001b[0;32m---> 25\u001b[0m     combined_data[anaseg_data \u001b[38;5;241m==\u001b[39m label] \u001b[38;5;241m=\u001b[39m i \u001b[38;5;241m/\u001b[39m num_classes\n\u001b[1;32m     27\u001b[0m combined_data[seg_data \u001b[38;5;241m==\u001b[39m \u001b[38;5;241m1\u001b[39m] \u001b[38;5;241m=\u001b[39m (num_classes \u001b[38;5;241m-\u001b[39m \u001b[38;5;241m1\u001b[39m) \u001b[38;5;241m/\u001b[39m num_classes   \n\u001b[1;32m     28\u001b[0m unique_labels \u001b[38;5;241m=\u001b[39m np\u001b[38;5;241m.\u001b[39munique(combined_data)\n",
      "\u001b[0;31mKeyboardInterrupt\u001b[0m: "
     ]
    }
   ],
   "source": [
    "import nibabel as nib\n",
    "import matplotlib.pyplot as plt\n",
    "import nibabel as nib\n",
    "import numpy as np\n",
    "\n",
    "anaseg_path = '/Users/keyi/Desktop/MA/AutoPet_Anatomy/FDG-PET-CT-Lesions/PETCT_0beb67c923/07-25-1999-NA-PET-CT Ganzkoerper  primaer mit KM-37911/ANASEG.nii.gz'\n",
    "seg_path = '/Users/keyi/Desktop/MA/AutoPet_Anatomy/FDG-PET-CT-Lesions/PETCT_0beb67c923/07-25-1999-NA-PET-CT Ganzkoerper  primaer mit KM-37911/SEG.nii.gz'\n",
    "\n",
    "anaseg_img = nib.load(anaseg_path)\n",
    "seg_img = nib.load(seg_path)\n",
    "\n",
    "anaseg_data = anaseg_img.get_fdata()\n",
    "seg_data = seg_img.get_fdata()\n",
    "\n",
    "\n",
    "# +1 because we need to include the canser label\n",
    "num_classes = len(np.unique(anaseg_data)) + 1 \n",
    "print(f\"Number of classes: {num_classes}\")\n",
    "unique_labels = np.unique(anaseg_data)\n",
    "print(f\"Number of unique labels in ANASEG: {unique_labels}\")\n",
    "\n",
    "combined_data = anaseg_data.copy().astype(float)\n",
    "# normalize the data to 0-1\n",
    "for i, label in enumerate(np.unique(anaseg_data)):\n",
    "    combined_data[anaseg_data == label] = i / num_classes\n",
    "    \n",
    "combined_data[seg_data == 1] = (num_classes - 1) / num_classes   \n",
    "unique_labels = np.unique(combined_data)\n",
    "print(f\"Unique normalized labels in combined data: {unique_labels}\")\n",
    "\n",
    "combined_img = nib.Nifti1Image(combined_data, anaseg_img.affine)\n",
    "nib.save(combined_img, '/Users/keyi/Desktop/MA/ANASEG/combined_normalized_label.nii.gz')\n",
    "\n",
    "print(\"Combined normalized label data saved successfully.\")\n",
    "print(f\"Data type of combined data: {combined_data.dtype}\")"
   ]
  },
  {
   "cell_type": "code",
   "execution_count": null,
   "metadata": {},
   "outputs": [
    {
     "name": "stderr",
     "output_type": "stream",
     "text": [
      "Removing ANA channel:   0%|          | 0/1 [00:00<?, ?it/s]\u001b[32m2024-10-01 00:06:33.792\u001b[0m | \u001b[1mINFO    \u001b[0m | \u001b[36m__main__\u001b[0m:\u001b[36m<module>\u001b[0m:\u001b[36m8\u001b[0m - \u001b[1msample is {'CTres': [13, 14, 15], 'SUV': [16, 17, 18], 'CONCAT': [19, 20, 21]}\u001b[0m\n",
      "\u001b[32m2024-10-01 00:06:33.792\u001b[0m | \u001b[1mINFO    \u001b[0m | \u001b[36m__main__\u001b[0m:\u001b[36m<module>\u001b[0m:\u001b[36m10\u001b[0m - \u001b[1mgoto here\u001b[0m\n",
      "Removing ANA channel: 100%|██████████| 1/1 [00:00<00:00, 1034.10it/s]\n"
     ]
    }
   ],
   "source": [
    "\n",
    "from tqdm import tqdm\n",
    "from loguru import logger\n",
    "l = [[{'CTres': [1,2,3], 'SUV': [4,5,6], 'CONCAT': [7,8,9]}, {'CTres': [4,5,6], 'SUV': [7,8,9], 'CONCAT': [10,11,12]}],\n",
    "     [{'CTres': [13,14,15], 'SUV': [16,17,18], 'CONCAT': [19,20,21]}, {'CTres': [22,23,24], 'SUV': [25,26,27], 'CONCAT': [28,29,30]}]]\n",
    "l_single = [{'CTres': [13,14,15], 'SUV': [16,17,18], 'CONCAT': [19,20,21]}]\n",
    "\n",
    "for sample in tqdm(l_single, desc=\"Removing ANA channel\"):\n",
    "    logger.info(f\"sample is {sample}\")\n",
    "    if isinstance(sample, dict):\n",
    "        logger.info(\"goto here\")\n",
    "        sample['CONCAT'] = sample['CONCAT'][:2]\n",
    "    elif isinstance(sample, list):\n",
    "        for j, sample_list in enumerate(sample):\n",
    "            logger.info(f\"sample list is {sample_list}\")\n",
    "            if \"CONCAT\" in sample_list:\n",
    "                sample_list['CONCAT'] = sample_list['CONCAT'][:2]\n",
    "    else:\n",
    "        raise ValueError(f\"sample is not a dict or list, but {type(sample)}\")\n",
    "         \n"
   ]
  },
  {
   "cell_type": "code",
   "execution_count": null,
   "metadata": {},
   "outputs": [
    {
     "name": "stdout",
     "output_type": "stream",
     "text": [
      "data shape: (399, 399, 326)\n",
      "data type: float64\n",
      "unique value: [0. 1.]\n",
      "unique value: [0. 1.]\n"
     ]
    },
    {
     "data": {
      "image/png": "[encoded data removed]",
      "text/plain": [
       "<Figure size 640x480 with 2 Axes>"
      ]
     },
     "metadata": {},
     "output_type": "display_data"
    },
    {
     "data": {
      "image/png": "[encoded data removed]",
      "text/plain": [
       "<Figure size 640x480 with 1 Axes>"
      ]
     },
     "metadata": {},
     "output_type": "display_data"
    }
   ],
   "source": [
    "import nibabel as nib\n",
    "import numpy as np\n",
    "import matplotlib.pyplot as plt\n",
    "from scipy.ndimage import median_filter\n",
    "\n",
    "pred_img = nib.load('/Users/keyi/Desktop/DL_template/_assets/prediction/PRED/fold_0/PRED_PETCT_0beb67c923.nii.gz')\n",
    "gt_img = nib.load('/Users/keyi/Desktop/DL_template/_assets/prediction/SEG/fold_0/SEG_PETCT_0beb67c923.nii.gz')\n",
    "pred_data = pred_img.get_fdata()\n",
    "gt_data = gt_img.get_fdata()\n",
    "\n",
    "print(f\"data shape: {pred_data.shape}\")\n",
    "print(f\"data type: {pred_data.dtype}\")\n",
    "print(f\"unique value: {np.unique(pred_data)}\")\n",
    "print(f\"unique value: {np.unique(gt_data)}\")\n",
    "middle_slice = pred_data.shape[2] // 2\n",
    "plt.imshow(pred_data[:, :, middle_slice], cmap='viridis')\n",
    "plt.colorbar()\n",
    "plt.title(f\"PRED.nii.gz middle slice (z={middle_slice})\")\n",
    "plt.show()\n",
    "\n",
    "plt.figure()\n",
    "plt.hist(pred_data.flatten(), bins=50)\n",
    "plt.title(\"PRED.nii.gz data distribution\")\n",
    "plt.xlabel(\"value\")\n",
    "plt.ylabel(\"frequency\")\n",
    "plt.show()"
   ]
  },
  {
   "cell_type": "code",
   "execution_count": null,
   "metadata": {},
   "outputs": [
    {
     "name": "stdout",
     "output_type": "stream",
     "text": [
      "[{'CTres': [1, 2, 3], 'SUV': [4, 5, 6], 'CONCAT': [7, 8, 9]}, [{'CTres': [1, 2, 3], 'SUV': [4, 5, 6], 'CONCAT': [7, 8, 9]}]]\n"
     ]
    }
   ],
   "source": [
    "files = []\n",
    "f_1 = [{'CTres': [1,2,3], 'SUV': [4,5,6], 'CONCAT': [7,8,9]}]\n",
    "f_2 = [{'CTres': [1,2,3], 'SUV': [4,5,6], 'CONCAT': [7,8,9]}]\n",
    "files.extend(f_1)\n",
    "files.append(f_2)\n",
    "print(files)\n"
   ]
  },
  {
   "cell_type": "code",
   "execution_count": null,
   "metadata": {},
   "outputs": [
    {
     "name": "stdout",
     "output_type": "stream",
     "text": [
      "PETCT_0b98dbe00d\n"
     ]
    }
   ],
   "source": [
    "path = '/tmp/scratch/AUTOPET2/FDG-PET-CT-Lesions/PETCT_0b98dbe00d/08-11-2002-NA-PET-CT Ganzkoerper  primaer mit KM-83616/CTres.nii.gz'\n",
    "import glob\n",
    "from pathlib import Path\n",
    "\n",
    "\n",
    "\n",
    "path_obj = Path(path)\n",
    "petct_part = next((part for part in path_obj.parts if part.startswith(\"PETCT_\")), None)\n",
    "if petct_part:\n",
    "    print(petct_part)\n",
    "else:\n",
    "    print(\"No PETCT_ part found\")\n"
   ]
  },
  {
   "cell_type": "code",
   "execution_count": null,
   "metadata": {
    "ExecuteTime": {
     "end_time": "2024-09-29T21:05:38.415423Z",
     "start_time": "2024-09-29T21:05:37.515342Z"
    }
   },
   "outputs": [
    {
     "name": "stdout",
     "output_type": "stream",
     "text": [
      "torch.Size([1, 1, 399, 399, 326])\n",
      "torch.Size([400, 400, 326])\n",
      "torch.Size([400, 400, 326])\n"
     ]
    }
   ],
   "source": [
    "import torch\n",
    "import torch.nn.functional as F\n",
    "\n",
    "\n",
    "# interpolate if needed\n",
    "mask_out = torch.randn(1, 1, 399, 399, 326)\n",
    "original_shape = torch.randn(400, 400, 326) \n",
    "\n",
    "print(mask_out.shape)\n",
    "mask_out = F.interpolate(mask_out.float(), size=original_shape.shape, mode='nearest')\n",
    "mask_out = mask_out.squeeze()\n",
    "\n",
    "print(original_shape.shape)\n",
    "print(mask_out.shape)\n"
   ]
  },
  {
   "cell_type": "code",
   "execution_count": 22,
   "metadata": {},
   "outputs": [
    {
     "data": {
      "text/plain": [
       "{'Dice': 0.795666515827179,\n",
       " 'HD95': 51.8714714050293,\n",
       " 'SD': 5.259375095367432,\n",
       " 'Iou': 0.6606695869837297}"
      ]
     },
     "execution_count": 22,
     "metadata": {},
     "output_type": "execute_result"
    }
   ],
   "source": [
    "import torch\n",
    "import nibabel as nib\n",
    "import numpy as np\n",
    "from monai.metrics import DiceMetric, HausdorffDistanceMetric, SurfaceDistanceMetric, MeanIoU\n",
    "healthy_pred_seg = '/Users/keyi/Desktop/DL_template/_assets/prediction/PRED/fold_0/PRED_PETCT_0c13e4df10.nii.gz'\n",
    "healthy_gt_seg = '/Users/keyi/Desktop/DL_template/_assets/prediction/SEG/fold_0/SEG_PETCT_0c13e4df10.nii.gz'\n",
    "patient_pred_seg = '/Users/keyi/Desktop/DL_template/_assets/prediction/PRED/fold_0/PRED_PETCT_0beb67c923.nii.gz'\n",
    "patient_gt_seg = '/Users/keyi/Desktop/DL_template/_assets/prediction/SEG/fold_0/SEG_PETCT_0beb67c923.nii.gz'\n",
    "patient2_pred_seg = '/Users/keyi/Desktop/DL_template/_assets/prediction/PRED/fold_4/PRED_PETCT_0b98dbe00d.nii.gz'\n",
    "patient2_gt_seg = '/Users/keyi/Desktop/DL_template/_assets/prediction/SEG/fold_4/SEG_PETCT_0b98dbe00d.nii.gz'\n",
    "def calculate_metrics(pred_path, gt_path):\n",
    "    gt = nib.load(gt_path).get_fdata()\n",
    "    pred = nib.load(pred_path).get_fdata()\n",
    "    assert pred.shape == gt.shape, \"Prediction and ground truth shape mismatch\"\n",
    "\n",
    "    gt_binary = (gt>0).astype(int)\n",
    "    # it's healthy patient\n",
    "    if np.all(gt_binary==0):\n",
    "       return None\n",
    "    else:\n",
    "        pred = torch.from_numpy(pred).unsqueeze(0).unsqueeze(0)\n",
    "        gt = torch.from_numpy(gt).unsqueeze(0).unsqueeze(0)\n",
    "              \n",
    "        dice_metric = DiceMetric(include_background=True, reduction=\"mean\")\n",
    "        hausdorff_metric = HausdorffDistanceMetric(include_background=True, percentile=95)\n",
    "        surface_distance_metric = SurfaceDistanceMetric(include_background=True, symmetric=True)\n",
    "        iou_metric = MeanIoU(include_background=True)\n",
    "        \n",
    "\n",
    "        dice = dice_metric(pred, gt)\n",
    "        hausdorff = hausdorff_metric(pred, gt)\n",
    "        surface_distance = surface_distance_metric(pred, gt)\n",
    "        iou = iou_metric(pred, gt)\n",
    "        return {\n",
    "            \"Dice\": dice.item(),\n",
    "            \"HD95\": hausdorff.item(),\n",
    "            \"SD\": surface_distance.item(),\n",
    "            \"Iou\": iou.item()\n",
    "        }\n",
    "# results = calculate_metrics(healthy_pred_seg, healthy_gt_seg)\n",
    "# calculate_metrics(patient_pred_seg, patient_gt_seg)\n",
    "results = []\n",
    "result = calculate_metrics(patient2_pred_seg, patient2_gt_seg)\n",
    "\n",
    "\n",
    "# print(f\"FP rate: {results['FP_rate']:.6f}\")\n",
    "# print(f\"FN rate: {results['FN_rate']:.6f}\")\n",
    "# print(f\"Dice: {results['dice']:.4f}\")\n",
    "# print(f\"HD95: {results['hd95']:.4f}\")\n",
    "# print(f\"Surface Distance: {results['surface_distance']:.4f}\")\n",
    "# print(f\"IoU: {results['iou']:.4f}\")\n",
    "result"
   ]
  },
  {
   "cell_type": "code",
   "execution_count": 24,
   "metadata": {},
   "outputs": [
    {
     "name": "stderr",
     "output_type": "stream",
     "text": [
      "/opt/anaconda3/envs/cvhci/lib/python3.10/site-packages/monai/metrics/utils.py:334: UserWarning: the prediction of class 0 is all 0, this may result in nan/inf distance.\n",
      "  warnings.warn(\n"
     ]
    },
    {
     "name": "stdout",
     "output_type": "stream",
     "text": [
      "Global Dice: 0.1852\n",
      "Global HD95: 5.7064\n",
      "Global ASD: 3.4899\n",
      "Global IoU: 0.1501\n"
     ]
    }
   ],
   "source": [
    "import numpy as np\n",
    "from monai.metrics import DiceMetric, HausdorffDistanceMetric, SurfaceDistanceMetric, MeanIoU\n",
    "gt_img = nib.load('/Users/keyi/Desktop/DL_template/_assets/prediction/SEG/fold_4/SEG_PETCT_0b98dbe00d.nii.gz')\n",
    "pred_img = nib.load('/Users/keyi/Desktop/DL_template/_assets/prediction/PRED/fold_4/PRED_PETCT_0b98dbe00d.nii.gz')\n",
    "voronoi_img = nib.load('/Users/keyi/Desktop/DL_template/_assets/prediction/VORONOI/fold_4/VORONOI_PETCT_0b98dbe00d.nii.gz')\n",
    "\n",
    "gt = gt_img.get_fdata()\n",
    "pred = pred_img.get_fdata()\n",
    "voronoi = voronoi_img.get_fdata()\n",
    "\n",
    "voronoi_labels = np.unique(voronoi)\n",
    "dice_metric = DiceMetric(include_background=True, reduction=\"mean\")\n",
    "hd_metric = HausdorffDistanceMetric(include_background=True, percentile=95)\n",
    "asd_metric = SurfaceDistanceMetric(include_background=True, symmetric=True)\n",
    "iou_metric = MeanIoU(include_background=True)\n",
    "results = {}\n",
    "\n",
    "for index,label in enumerate(voronoi_labels):\n",
    "    region_mask  = voronoi == label\n",
    "    pred_region = np.zeros_like(pred)\n",
    "    gt_region = np.zeros_like(gt)\n",
    "    \n",
    "    pred_region[region_mask] = pred[region_mask]\n",
    "    gt_region[region_mask] = gt[region_mask]\n",
    "    \n",
    "    pred_tensor = torch.from_numpy(pred_region).unsqueeze(0).unsqueeze(0)\n",
    "    gt_tensor = torch.from_numpy(gt_region).unsqueeze(0).unsqueeze(0)\n",
    "    \n",
    "    dice = dice_metric(pred_tensor, gt_tensor).item()\n",
    "    hd = hd_metric(pred_tensor, gt_tensor).item()\n",
    "    asd = asd_metric(pred_tensor, gt_tensor).item()\n",
    "    iou = iou_metric(pred_tensor, gt_tensor).item()\n",
    "    results[label] = {\n",
    "        \"Dice\": dice,\n",
    "        \"HD95\": hd,\n",
    "        \"ASD\": asd,\n",
    "        \"IoU\": iou\n",
    "    }\n",
    "\n",
    "def safe_mean(values, key):\n",
    "    values = [r[key] for r in results.values() if key in r]\n",
    "    values = np.array(values)\n",
    "    values[np.isinf(values)] = np.nan\n",
    "    return np.nanmean(values)\n",
    "global_dice = safe_mean(results.values(), 'Dice')\n",
    "global_hd95 = safe_mean(results.values(), 'HD95')\n",
    "global_asd = safe_mean(results.values(), 'ASD')\n",
    "global_iou = safe_mean(results.values(), 'IoU')\n",
    "print(f\"Global Dice: {global_dice:.4f}\")\n",
    "print(f\"Global HD95: {global_hd95:.4f}\")\n",
    "print(f\"Global ASD: {global_asd:.4f}\")\n",
    "print(f\"Global IoU: {global_iou:.4f}\")\n",
    "\n",
    "\n",
    "\n",
    "\n",
    "\n"
   ]
  },
  {
   "cell_type": "code",
   "execution_count": 10,
   "metadata": {},
   "outputs": [
    {
     "name": "stdout",
     "output_type": "stream",
     "text": [
      "index: 0, seg_path: fold_0\n",
      "['/Users/keyi/Desktop/DL_template/_assets/prediction/SEG/fold_0/SEG_PETCT_0c13e4df10.nii.gz', '/Users/keyi/Desktop/DL_template/_assets/prediction/SEG/fold_0/SEG_PETCT_0beb67c923.nii.gz']\n",
      "index: 1, seg_path: fold_1\n",
      "['/Users/keyi/Desktop/DL_template/_assets/prediction/SEG/fold_1/SEG_PETCT_0beb67c923.nii.gz']\n",
      "index: 2, seg_path: fold_2\n",
      "['/Users/keyi/Desktop/DL_template/_assets/prediction/SEG/fold_2/SEG_PETCT_0af7ffe12a.nii.gz']\n",
      "index: 3, seg_path: fold_3\n",
      "['/Users/keyi/Desktop/DL_template/_assets/prediction/SEG/fold_3/SEG_PETCT_0b98dbe00d.nii.gz']\n",
      "index: 4, seg_path: fold_4\n",
      "['/Users/keyi/Desktop/DL_template/_assets/prediction/SEG/fold_4/SEG_PETCT_0b98dbe00d.nii.gz']\n"
     ]
    }
   ],
   "source": [
    "import os \n",
    "import glob\n",
    "seg_folder = '/Users/keyi/Desktop/DL_template/_assets/prediction/SEG'\n",
    "for index,seg_name in enumerate(sorted(os.listdir(seg_folder))):\n",
    "    print(f\"index: {index}, seg_path: {seg_name}\")\n",
    "    fold_path = os.path.join(seg_folder, seg_name)\n",
    "    nii_files = glob.glob(os.path.join(fold_path, \"*.nii.gz\"))\n",
    "    print(nii_files)\n",
    "    \n",
    "    "
   ]
  },
  {
   "cell_type": "code",
   "execution_count": 18,
   "metadata": {},
   "outputs": [
    {
     "name": "stdout",
     "output_type": "stream",
     "text": [
      "['SEG_PETCT_0c13e4df10', 'nii']\n",
      "['SEG', 'PETCT', '0c13e4df10']\n"
     ]
    },
    {
     "data": {
      "text/plain": [
       "'PETCT_0c13e4df10'"
      ]
     },
     "execution_count": 18,
     "metadata": {},
     "output_type": "execute_result"
    }
   ],
   "source": [
    "from pathlib import Path\n",
    "\n",
    "path_obj = Path('/Users/keyi/Desktop/DL_template/_assets/prediction/SEG/fold_0/SEG_PETCT_0c13e4df10.nii.gz')\n",
    "file_name_part = path_obj.stem.split('.')\n",
    "print(file_name_part)\n",
    "identifier = file_name_part[0].split('_')\n",
    "print(identifier)\n",
    "file_name = identifier[1] + \"_\" + identifier[2]\n",
    "file_name"
   ]
  },
  {
   "cell_type": "code",
   "execution_count": 37,
   "metadata": {},
   "outputs": [
    {
     "name": "stdout",
     "output_type": "stream",
     "text": [
      "index: 0, seg_path: fold_0\n",
      "index: 1, seg_path: fold_1\n",
      "index: 2, seg_path: fold_2\n",
      "index: 3, seg_path: fold_3\n",
      "index: 4, seg_path: fold_4\n"
     ]
    }
   ],
   "source": [
    "for index,seg_name in enumerate(sorted(os.listdir(seg_folder))):\n",
    "    print(f\"index: {index}, seg_path: {seg_name}\")"
   ]
  },
  {
   "cell_type": "code",
   "execution_count": 2,
   "metadata": {},
   "outputs": [
    {
     "name": "stdout",
     "output_type": "stream",
     "text": [
      "Total possible labels: 63\n",
      "Model output channels: 63\n"
     ]
    }
   ],
   "source": [
    "import numpy as np\n",
    "all_possible_labels = np.array([0, 1, 2, 3, 4, 5, 6, 7, 8, 9, 10, 15, 16, 17, 18, 20, 21,22,23,24, 25, 26,\n",
    "                                27, 32, 44, 51, 52, 53,54, 55, 56, 57, 58, 59, 60, 61, 62, 63, 64, \n",
    "                                65, 66, 67, 68, 69, 70, 71, 72, 73, 74, 75, 76, 77, 78, 79, 80, \n",
    "                                86, 90, 91, 92, 104, 116, 117, 118])\n",
    "\n",
    "\n",
    "label_to_index = {label: index for index, label in enumerate(all_possible_labels)}\n",
    "index_to_label = {index: label for label, index in label_to_index.items()}\n",
    "\n",
    "max_num_classes = len(all_possible_labels)\n",
    "\n",
    "def preprocess_labels(data):\n",
    "    mapped_data = np.vectorize(label_to_index.get)(data)\n",
    "    normalized_data = (data - min_label) / (max_label - min_label)\n",
    "    return mapped_data\n",
    "\n",
    "def postprocess_output(model_output):\n",
    "    predicted_indices = np.argmax(model_output, axis=1)\n",
    "    predicted_labels = np.vectorize(index_to_label.get)(predicted_indices)\n",
    "    return predicted_labels\n",
    "max_num_classes\n",
    "model_output_channels = max_num_classes\n",
    "print(f\"Total possible labels: {len(all_possible_labels)}\")\n",
    "print(f\"Model output channels: {model_output_channels}\")"
   ]
  },
  {
   "cell_type": "code",
   "execution_count": 10,
   "metadata": {},
   "outputs": [
    {
     "name": "stdout",
     "output_type": "stream",
     "text": [
      "index: 0, label: 0\n",
      "index: 1, label: 1\n",
      "index: 2, label: 2\n",
      "index: 3, label: 3\n",
      "index: 4, label: 4\n",
      "index: 5, label: 5\n",
      "index: 6, label: 6\n",
      "index: 7, label: 7\n",
      "index: 8, label: 8\n",
      "index: 9, label: 9\n",
      "index: 10, label: 10\n",
      "index: 11, label: 15\n",
      "index: 12, label: 16\n",
      "index: 13, label: 17\n",
      "index: 14, label: 18\n",
      "index: 15, label: 20\n",
      "index: 16, label: 21\n",
      "index: 17, label: 22\n",
      "index: 18, label: 23\n",
      "index: 19, label: 24\n",
      "index: 20, label: 25\n",
      "index: 21, label: 26\n",
      "index: 22, label: 27\n",
      "index: 23, label: 32\n",
      "index: 24, label: 44\n",
      "index: 25, label: 51\n",
      "index: 26, label: 52\n",
      "index: 27, label: 53\n",
      "index: 28, label: 54\n",
      "index: 29, label: 55\n",
      "index: 30, label: 56\n",
      "index: 31, label: 57\n",
      "index: 32, label: 58\n",
      "index: 33, label: 59\n",
      "index: 34, label: 60\n",
      "index: 35, label: 61\n",
      "index: 36, label: 62\n",
      "index: 37, label: 63\n",
      "index: 38, label: 64\n",
      "index: 39, label: 65\n",
      "index: 40, label: 66\n",
      "index: 41, label: 67\n",
      "index: 42, label: 68\n",
      "index: 43, label: 69\n",
      "index: 44, label: 70\n",
      "index: 45, label: 71\n",
      "index: 46, label: 72\n",
      "index: 47, label: 73\n",
      "index: 48, label: 74\n",
      "index: 49, label: 75\n",
      "index: 50, label: 76\n",
      "index: 51, label: 77\n",
      "index: 52, label: 78\n",
      "index: 53, label: 79\n",
      "index: 54, label: 80\n",
      "index: 55, label: 86\n",
      "index: 56, label: 90\n",
      "index: 57, label: 91\n",
      "index: 58, label: 92\n",
      "index: 59, label: 104\n",
      "index: 60, label: 116\n",
      "index: 61, label: 117\n",
      "index: 62, label: 118\n"
     ]
    },
    {
     "data": {
      "text/plain": [
       "63"
      ]
     },
     "execution_count": 10,
     "metadata": {},
     "output_type": "execute_result"
    }
   ],
   "source": [
    "import numpy as np\n",
    "all_possible_labels = np.array([0, 1, 2, 3, 4, 5, 6, 7, 8, 9, 10, 15, 16, 17, 18, 20, 21,22,23,24, 25, 26,\n",
    "                                    27, 32, 44, 51, 52, 53,54, 55, 56, 57, 58, 59, 60, 61, 62, 63, 64, \n",
    "                                    65, 66, 67, 68, 69, 70, 71, 72, 73, 74, 75, 76, 77, 78, 79, 80, \n",
    "                                    86, 90, 91, 92, 104, 116, 117, 118])\n",
    "l = len(all_possible_labels)\n",
    "l\n",
    "for index, label in enumerate(all_possible_labels):\n",
    "    print(f\"index: {index}, label: {label}\")\n",
    "l = len(all_possible_labels)\n",
    "l"
   ]
  },
  {
   "cell_type": "code",
   "execution_count": 14,
   "metadata": {},
   "outputs": [
    {
     "name": "stdout",
     "output_type": "stream",
     "text": [
      "the shape of the intepolate data is (400, 400, 304)\n",
      "the unique values in the intepolate data are [  0.   1.   2.   3.   5.   6.   7.   8.   9.  10.  15.  16.  17.  18.\n",
      "  20.  21.  25.  26.  27.  32.  44.  51.  52.  53.  54.  55.  56.  57.\n",
      "  58.  59.  60.  61.  62.  63.  64.  65.  66.  67.  68.  69.  70.  71.\n",
      "  72.  73.  74.  75.  76.  77.  78.  79.  80.  86.  90.  91.  92. 104.\n",
      " 116. 117.]\n",
      "the length of the unique values in the intepolate data are 58\n"
     ]
    }
   ],
   "source": [
    "import nibabel as nib\n",
    "# PETCT_0cda25453b  0.98412698 (62/63)\n",
    "# PETCT_0af7ffe12a 0.96825397 # healthy patient\n",
    "intepolate = nib.load('/Users/keyi/Desktop/MA/AutoPet_Anatomy/FDG-PET-CT-Lesions/PETCT_0af7ffe12a/08-12-2005-NA-PET-CT Ganzkoerper  primaer mit KM-96698/interpolated_ANASEG.nii.gz')\n",
    "intepolate_data = intepolate.get_fdata()\n",
    "print(f\"the shape of the intepolate data is {intepolate_data.shape}\")\n",
    "print(f\"the unique values in the intepolate data are {np.unique(intepolate_data)}\")\n",
    "print(f\"the length of the unique values in the intepolate data are {len(np.unique(intepolate_data))}\")\n",
    "\n",
    "\n"
   ]
  },
  {
   "cell_type": "code",
   "execution_count": 13,
   "metadata": {},
   "outputs": [
    {
     "name": "stdout",
     "output_type": "stream",
     "text": [
      "class_range: tensor([ 0,  1,  2,  3,  4,  5,  6,  7,  8,  9, 10, 11, 12, 13, 14, 15, 16, 17,\n",
      "        18, 19, 20, 21, 22, 23, 24, 25, 26, 27, 28, 29, 30, 31, 32, 33, 34, 35,\n",
      "        36, 37, 38, 39, 40, 41, 42, 43, 44, 45, 46, 47, 48, 49, 50, 51, 52, 53,\n",
      "        54, 55, 56, 57, 58, 59, 60, 61, 62])\n",
      "class_range: torch.Size([63])\n",
      "class_range: torch.Size([1, 63, 1, 1, 1, 1])\n",
      "gt_classes: torch.Size([2, 1, 1, 128, 128, 128])\n",
      "mask: torch.Size([2, 63])\n",
      "mask: tensor([[0., 0., 0., 0., 0., 0., 0., 0., 0., 0., 0., 0., 0., 0., 0., 0., 0., 0., 0., 0., 0., 0., 0., 0.,\n",
      "         0., 0., 0., 0., 0., 0., 0., 0., 0., 0., 0., 0., 0., 0., 0., 0., 0., 0., 0., 0., 0., 0., 0., 0.,\n",
      "         0., 0., 0., 0., 0., 0., 0., 0., 0., 0., 0., 0., 0., 0., 0.],\n",
      "        [0., 0., 0., 0., 0., 0., 0., 0., 0., 0., 0., 0., 0., 0., 0., 0., 0., 0., 0., 0., 0., 0., 0., 0.,\n",
      "         0., 0., 0., 0., 0., 0., 0., 0., 0., 0., 0., 0., 0., 0., 0., 0., 0., 0., 0., 0., 0., 0., 0., 0.,\n",
      "         0., 0., 0., 0., 0., 0., 0., 0., 0., 0., 0., 0., 0., 0., 0.]])\n"
     ]
    }
   ],
   "source": [
    "import torch \n",
    "class_range = torch.arange(63)\n",
    "print(f\"class_range: {class_range}\")\n",
    "print(f\"class_range: {class_range.shape}\")\n",
    "class_range = class_range.view(1, -1, 1,1,1,1)\n",
    "print(f\"class_range: {class_range.shape}\")\n",
    "gt_classes = torch.randn(2, 1, 128, 128, 128)\n",
    "gt_classes = gt_classes.unsqueeze(1)\n",
    "print(f\"gt_classes: {gt_classes.shape}\")\n",
    "mask = (gt_classes == class_range.view(1, -1, 1, 1, 1, 1)).any(dim=(2,3,4,5)).float()\n",
    "print(f\"mask: {mask.shape}\")\n",
    "print(f\"mask: {mask}\")\n",
    "\n",
    "# print(f\"any_mask: {any_mask.shape}\")\n",
    "# print(f\"any_mask: {any_mask}\")\n",
    "# any_mask = any_mask.float()\n",
    "# print(f\"any_mask: {any_mask.shape}\")\n",
    "# print(f\"any_mask: {any_mask}\")\n"
   ]
  },
  {
   "cell_type": "code",
   "execution_count": 6,
   "metadata": {},
   "outputs": [
    {
     "data": {
      "text/plain": [
       "['dummy_file', 'nii', 'gz']"
      ]
     },
     "execution_count": 6,
     "metadata": {},
     "output_type": "execute_result"
    }
   ],
   "source": [
    "from pathlib import Path\n",
    "\n",
    "p = Path(\"dummy_path\") / \"dummy_file.nii.gz\"\n",
    "name = p.name.split(\".\")\n",
    "name"
   ]
  },
  {
   "cell_type": "code",
   "execution_count": 1,
   "metadata": {},
   "outputs": [
    {
     "data": {
      "text/plain": [
       "(55,)"
      ]
     },
     "execution_count": 1,
     "metadata": {},
     "output_type": "execute_result"
    }
   ],
   "source": [
    "import numpy as np\n",
    "a = np.array([0, 1, 2, 3, 4, 5, 6, 7, 8, 9, 10, 15, 16, 17, 18, 20, 21,22,23,24, 25, 26,\n",
    "                                27, 32, 44, 51, 52, 53, 54, 61, 62, 63, 64, \n",
    "                                65, 66, 67, 68, 69, 70, 71, 72, 73, 74, 75, 76, 77, 78, 79, 80, \n",
    "                                86, 90, 91, 92, 116, 118])\n",
    "\n",
    "a.shape"
   ]
  }
 ],
 "metadata": {
  "kernelspec": {
   "display_name": "cvhci",
   "language": "python",
   "name": "python3"
  },
  "language_info": {
   "codemirror_mode": {
    "name": "ipython",
    "version": 3
   },
   "file_extension": ".py",
   "mimetype": "text/x-python",
   "name": "python",
   "nbconvert_exporter": "python",
   "pygments_lexer": "ipython3",
   "version": "3.10.14"
  }
 },
 "nbformat": 4,
 "nbformat_minor": 2
}
