{
 "cells": [
  {
   "cell_type": "code",
   "execution_count": 2,
   "metadata": {},
   "outputs": [
    {
     "name": "stdout",
     "output_type": "stream",
     "text": [
      "[3, 2, 2, 2, 2]\n"
     ]
    }
   ],
   "source": [
    "strides = [2,2,2,2,3]\n",
    "print(strides[::-1])"
   ]
  },
  {
   "cell_type": "code",
   "execution_count": 27,
   "metadata": {},
   "outputs": [
    {
     "name": "stdout",
     "output_type": "stream",
     "text": [
      "torch.Size([1, 96, 96, 96])\n",
      "torch.Size([2, 1, 96, 96, 96])\n",
      "metatensor([ 0,  1,  2,  3,  5,  6,  7,  8,  9, 10, 11, 12, 13, 14, 15, 22, 23, 24,\n",
      "        25, 26, 27, 28, 29, 30, 31, 32, 37, 39, 41, 42, 47, 49, 51, 52, 53],\n",
      "       dtype=torch.uint8)\n",
      "Unique values in batch: metatensor([ 0,  1,  2,  3,  5,  6,  7,  8,  9, 10, 11, 12, 13, 14, 15, 22, 23, 24,\n",
      "        25, 26, 27, 28, 29, 30, 31, 32, 37, 39, 41, 42, 47, 49, 51, 52, 53],\n",
      "       dtype=torch.uint8)\n",
      "Min value: metatensor(0, dtype=torch.uint8)\n",
      "Max value: metatensor(53, dtype=torch.uint8)\n"
     ]
    },
    {
     "name": "stderr",
     "output_type": "stream",
     "text": [
      "/var/folders/jw/3gmq54sn6q3cnlvsjqly5twr0000gn/T/ipykernel_38850/1122214994.py:4: FutureWarning: You are using `torch.load` with `weights_only=False` (the current default value), which uses the default pickle module implicitly. It is possible to construct malicious pickle data which will execute arbitrary code during unpickling (See https://github.com/pytorch/pytorch/blob/main/SECURITY.md#untrusted-models for more details). In a future release, the default value for `weights_only` will be flipped to `True`. This limits the functions that could be executed during unpickling. Arbitrary objects will no longer be allowed to be loaded via this mode unless they are explicitly allowlisted by the user via `torch.serialization.add_safe_globals`. We recommend you start setting `weights_only=True` for any use case where you don't have full control of the loaded file. Please open an issue on GitHub for any issues related to this experimental feature.\n",
      "  ds = torch.load(ds)\n"
     ]
    },
    {
     "ename": "AssertionError",
     "evalue": "labels should have a channel with length equal to one.",
     "output_type": "error",
     "traceback": [
      "\u001b[0;31m---------------------------------------------------------------------------\u001b[0m",
      "\u001b[0;31mAssertionError\u001b[0m                            Traceback (most recent call last)",
      "Cell \u001b[0;32mIn[27], line 16\u001b[0m\n\u001b[1;32m     14\u001b[0m \u001b[38;5;28mprint\u001b[39m(\u001b[38;5;124m\"\u001b[39m\u001b[38;5;124mMin value:\u001b[39m\u001b[38;5;124m\"\u001b[39m, batch\u001b[38;5;241m.\u001b[39mmin())\n\u001b[1;32m     15\u001b[0m \u001b[38;5;28mprint\u001b[39m(\u001b[38;5;124m\"\u001b[39m\u001b[38;5;124mMax value:\u001b[39m\u001b[38;5;124m\"\u001b[39m, batch\u001b[38;5;241m.\u001b[39mmax())\n\u001b[0;32m---> 16\u001b[0m combined_gt \u001b[38;5;241m=\u001b[39m \u001b[43mAsDiscrete\u001b[49m\u001b[43m(\u001b[49m\u001b[43mto_onehot\u001b[49m\u001b[38;5;241;43m=\u001b[39;49m\u001b[38;5;241;43m54\u001b[39;49m\u001b[43m)\u001b[49m\u001b[43m(\u001b[49m\u001b[43mbatch\u001b[49m\u001b[43m)\u001b[49m\n\u001b[1;32m     17\u001b[0m \u001b[38;5;28mprint\u001b[39m(combined_gt\u001b[38;5;241m.\u001b[39mshape)\n\u001b[1;32m     18\u001b[0m \u001b[38;5;28mprint\u001b[39m(combined_gt[\u001b[38;5;241m53\u001b[39m])\n",
      "File \u001b[0;32m/opt/anaconda3/envs/cvhci/lib/python3.10/site-packages/monai/transforms/post/array.py:222\u001b[0m, in \u001b[0;36mAsDiscrete.__call__\u001b[0;34m(self, img, argmax, to_onehot, threshold, rounding)\u001b[0m\n\u001b[1;32m    220\u001b[0m     \u001b[38;5;28;01mif\u001b[39;00m \u001b[38;5;129;01mnot\u001b[39;00m \u001b[38;5;28misinstance\u001b[39m(to_onehot, \u001b[38;5;28mint\u001b[39m):\n\u001b[1;32m    221\u001b[0m         \u001b[38;5;28;01mraise\u001b[39;00m \u001b[38;5;167;01mValueError\u001b[39;00m(\u001b[38;5;124mf\u001b[39m\u001b[38;5;124m\"\u001b[39m\u001b[38;5;124mthe number of classes for One-Hot must be an integer, got \u001b[39m\u001b[38;5;132;01m{\u001b[39;00m\u001b[38;5;28mtype\u001b[39m(to_onehot)\u001b[38;5;132;01m}\u001b[39;00m\u001b[38;5;124m.\u001b[39m\u001b[38;5;124m\"\u001b[39m)\n\u001b[0;32m--> 222\u001b[0m     img_t \u001b[38;5;241m=\u001b[39m \u001b[43mone_hot\u001b[49m\u001b[43m(\u001b[49m\n\u001b[1;32m    223\u001b[0m \u001b[43m        \u001b[49m\u001b[43mimg_t\u001b[49m\u001b[43m,\u001b[49m\u001b[43m \u001b[49m\u001b[43mnum_classes\u001b[49m\u001b[38;5;241;43m=\u001b[39;49m\u001b[43mto_onehot\u001b[49m\u001b[43m,\u001b[49m\u001b[43m \u001b[49m\u001b[43mdim\u001b[49m\u001b[38;5;241;43m=\u001b[39;49m\u001b[38;5;28;43mself\u001b[39;49m\u001b[38;5;241;43m.\u001b[39;49m\u001b[43mkwargs\u001b[49m\u001b[38;5;241;43m.\u001b[39;49m\u001b[43mget\u001b[49m\u001b[43m(\u001b[49m\u001b[38;5;124;43m\"\u001b[39;49m\u001b[38;5;124;43mdim\u001b[39;49m\u001b[38;5;124;43m\"\u001b[39;49m\u001b[43m,\u001b[49m\u001b[43m \u001b[49m\u001b[38;5;241;43m0\u001b[39;49m\u001b[43m)\u001b[49m\u001b[43m,\u001b[49m\u001b[43m \u001b[49m\u001b[43mdtype\u001b[49m\u001b[38;5;241;43m=\u001b[39;49m\u001b[38;5;28;43mself\u001b[39;49m\u001b[38;5;241;43m.\u001b[39;49m\u001b[43mkwargs\u001b[49m\u001b[38;5;241;43m.\u001b[39;49m\u001b[43mget\u001b[49m\u001b[43m(\u001b[49m\u001b[38;5;124;43m\"\u001b[39;49m\u001b[38;5;124;43mdtype\u001b[39;49m\u001b[38;5;124;43m\"\u001b[39;49m\u001b[43m,\u001b[49m\u001b[43m \u001b[49m\u001b[43mtorch\u001b[49m\u001b[38;5;241;43m.\u001b[39;49m\u001b[43mfloat\u001b[49m\u001b[43m)\u001b[49m\n\u001b[1;32m    224\u001b[0m \u001b[43m    \u001b[49m\u001b[43m)\u001b[49m\n\u001b[1;32m    226\u001b[0m threshold \u001b[38;5;241m=\u001b[39m \u001b[38;5;28mself\u001b[39m\u001b[38;5;241m.\u001b[39mthreshold \u001b[38;5;28;01mif\u001b[39;00m threshold \u001b[38;5;129;01mis\u001b[39;00m \u001b[38;5;28;01mNone\u001b[39;00m \u001b[38;5;28;01melse\u001b[39;00m threshold\n\u001b[1;32m    227\u001b[0m \u001b[38;5;28;01mif\u001b[39;00m threshold \u001b[38;5;129;01mis\u001b[39;00m \u001b[38;5;129;01mnot\u001b[39;00m \u001b[38;5;28;01mNone\u001b[39;00m:\n",
      "File \u001b[0;32m/opt/anaconda3/envs/cvhci/lib/python3.10/site-packages/monai/networks/utils.py:211\u001b[0m, in \u001b[0;36mone_hot\u001b[0;34m(labels, num_classes, dtype, dim)\u001b[0m\n\u001b[1;32m    208\u001b[0m sh \u001b[38;5;241m=\u001b[39m \u001b[38;5;28mlist\u001b[39m(labels\u001b[38;5;241m.\u001b[39mshape)\n\u001b[1;32m    210\u001b[0m \u001b[38;5;28;01mif\u001b[39;00m sh[dim] \u001b[38;5;241m!=\u001b[39m \u001b[38;5;241m1\u001b[39m:\n\u001b[0;32m--> 211\u001b[0m     \u001b[38;5;28;01mraise\u001b[39;00m \u001b[38;5;167;01mAssertionError\u001b[39;00m(\u001b[38;5;124m\"\u001b[39m\u001b[38;5;124mlabels should have a channel with length equal to one.\u001b[39m\u001b[38;5;124m\"\u001b[39m)\n\u001b[1;32m    213\u001b[0m sh[dim] \u001b[38;5;241m=\u001b[39m num_classes\n\u001b[1;32m    215\u001b[0m o \u001b[38;5;241m=\u001b[39m torch\u001b[38;5;241m.\u001b[39mzeros(size\u001b[38;5;241m=\u001b[39msh, dtype\u001b[38;5;241m=\u001b[39mdtype, device\u001b[38;5;241m=\u001b[39mlabels\u001b[38;5;241m.\u001b[39mdevice)\n",
      "\u001b[0;31mAssertionError\u001b[0m: labels should have a channel with length equal to one."
     ]
    }
   ],
   "source": [
    "import torch\n",
    "from monai.transforms import AsDiscrete\n",
    "ds = \"/Users/keyi/Desktop/MA/AutoPET_111/FDG-PET-CT-Lesions/sample_1_train.pt\"\n",
    "ds = torch.load(ds)\n",
    "\n",
    "combined_gt = ds[0]['INTERPOLATED_ANA']\n",
    "combined_gt_2 = ds[1]['INTERPOLATED_ANA']\n",
    "print(combined_gt_2.shape)\n",
    "batch = torch.cat([combined_gt, combined_gt_2], dim=0)\n",
    "batch = batch.unsqueeze(1)\n",
    "print(batch.shape)\n",
    "print(batch.unique())\n",
    "print(\"Unique values in batch:\", batch.unique())\n",
    "print(\"Min value:\", batch.min())\n",
    "print(\"Max value:\", batch.max())\n",
    "combined_gt = AsDiscrete(to_onehot=54)(batch)\n",
    "print(combined_gt.shape)\n",
    "print(combined_gt[53])\n"
   ]
  },
  {
   "cell_type": "code",
   "execution_count": 46,
   "metadata": {},
   "outputs": [
    {
     "name": "stdout",
     "output_type": "stream",
     "text": [
      "torch.Size([1, 96, 96, 96])\n",
      "torch.Size([2, 1, 96, 96, 96])\n",
      "metatensor([ 0,  1,  2,  5,  6,  8, 10, 11, 12, 13, 23, 24, 25, 26, 27, 28, 29, 30,\n",
      "        31, 39, 40, 41, 42, 47, 49, 51, 52, 53, 54], dtype=torch.uint8)\n",
      "Unique values in batch: metatensor([ 0,  1,  2,  5,  6,  8, 10, 11, 12, 13, 23, 24, 25, 26, 27, 28, 29, 30,\n",
      "        31, 39, 40, 41, 42, 47, 49, 51, 52, 53, 54], dtype=torch.uint8)\n",
      "Min value: metatensor(0, dtype=torch.uint8)\n",
      "Max value: metatensor(54, dtype=torch.uint8)\n",
      "torch.Size([2, 55, 96, 96, 96])\n",
      "torch.Size([2, 2, 96, 96, 96])\n",
      "torch.Size([2, 54, 96, 96, 96])\n"
     ]
    },
    {
     "name": "stderr",
     "output_type": "stream",
     "text": [
      "/var/folders/jw/3gmq54sn6q3cnlvsjqly5twr0000gn/T/ipykernel_38850/317556288.py:4: FutureWarning: You are using `torch.load` with `weights_only=False` (the current default value), which uses the default pickle module implicitly. It is possible to construct malicious pickle data which will execute arbitrary code during unpickling (See https://github.com/pytorch/pytorch/blob/main/SECURITY.md#untrusted-models for more details). In a future release, the default value for `weights_only` will be flipped to `True`. This limits the functions that could be executed during unpickling. Arbitrary objects will no longer be allowed to be loaded via this mode unless they are explicitly allowlisted by the user via `torch.serialization.add_safe_globals`. We recommend you start setting `weights_only=True` for any use case where you don't have full control of the loaded file. Please open an issue on GitHub for any issues related to this experimental feature.\n",
      "  ds = torch.load(ds)\n"
     ]
    }
   ],
   "source": [
    "import torch\n",
    "from monai.transforms import AsDiscrete\n",
    "ds = \"/Users/keyi/Desktop/MA/AutoPET_111/FDG-PET-CT-Lesions/sample_16_train.pt\"\n",
    "ds = torch.load(ds)\n",
    "\n",
    "combined_gt = ds[0]['INTERPOLATED_ANA']\n",
    "combined_gt_2 = ds[2]['INTERPOLATED_ANA']\n",
    "print(combined_gt_2.shape)\n",
    "batch = torch.cat([combined_gt, combined_gt_2], dim=0)\n",
    "batch = batch.unsqueeze(1)\n",
    "print(batch.shape)\n",
    "print(batch.unique())\n",
    "print(\"Unique values in batch:\", batch.unique())\n",
    "print(\"Min value:\", batch.min())\n",
    "print(\"Max value:\", batch.max())\n",
    "\n",
    "\n",
    "\n",
    "combined_gt = AsDiscrete(to_onehot=55, dim=1)(batch)\n",
    "print(combined_gt.shape)\n",
    "background = combined_gt[:, 0:1] \n",
    "anatomy_gt = combined_gt[:, :54]   \n",
    "tumor = combined_gt[:, 54:55]     \n",
    "pathology_gt = torch.cat([background, tumor], dim=1)\n",
    "print(pathology_gt.shape)\n",
    "\n",
    "print(anatomy_gt.shape)"
   ]
  },
  {
   "cell_type": "code",
   "execution_count": 1,
   "metadata": {},
   "outputs": [
    {
     "data": {
      "text/plain": [
       "(tensor(0.), -0.0)"
      ]
     },
     "execution_count": 1,
     "metadata": {},
     "output_type": "execute_result"
    }
   ],
   "source": [
    "import torch.nn.functional as F\n",
    "import torch\n",
    "feat = torch.randn(1,1024,3,3,3)\n",
    "feat_2 = torch.clone(feat)\n",
    "\n",
    "def compute_readiness_loss(path_feat, anat_feat):\n",
    "        path_stats = torch.cat([\n",
    "            path_feat.mean(dim=[2,3,4]),\n",
    "            path_feat.std(dim=[2,3,4])\n",
    "        ], dim=1)\n",
    "        \n",
    "        anat_stats = torch.cat([\n",
    "            anat_feat.mean(dim=[2,3,4]),\n",
    "            anat_feat.std(dim=[2,3,4])\n",
    "        ], dim=1)\n",
    "        \n",
    "        readiness_loss = F.mse_loss(path_stats, anat_stats)\n",
    "        readiness_score = -readiness_loss.item()\n",
    "        \n",
    "        return readiness_loss, readiness_score\n",
    "\n",
    "compute_readiness_loss(feat, feat_2)"
   ]
  }
 ],
 "metadata": {
  "kernelspec": {
   "display_name": "cvhci",
   "language": "python",
   "name": "python3"
  },
  "language_info": {
   "codemirror_mode": {
    "name": "ipython",
    "version": 3
   },
   "file_extension": ".py",
   "mimetype": "text/x-python",
   "name": "python",
   "nbconvert_exporter": "python",
   "pygments_lexer": "ipython3",
   "version": "3.10.14"
  }
 },
 "nbformat": 4,
 "nbformat_minor": 2
}
